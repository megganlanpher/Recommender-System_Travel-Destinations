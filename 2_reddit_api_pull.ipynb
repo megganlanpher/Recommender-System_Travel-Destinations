{
 "cells": [
  {
   "cell_type": "code",
   "execution_count": 1,
   "metadata": {},
   "outputs": [],
   "source": [
    "import pandas as pd\n",
    "import numpy as np\n",
    "import requests\n",
    "import time\n",
    "\n",
    "from sklearn.feature_extraction.text import CountVectorizer, TfidfVectorizer, ENGLISH_STOP_WORDS\n",
    "from sklearn.model_selection import train_test_split, GridSearchCV\n",
    "from sklearn.pipeline import Pipeline\n",
    "from sklearn.metrics import confusion_matrix, accuracy_score\n",
    "from sklearn.linear_model import LogisticRegression\n",
    "from sklearn.naive_bayes import MultinomialNB, GaussianNB\n",
    "\n",
    "import matplotlib.pyplot as plt\n",
    "import seaborn as sns\n",
    "import wordcloud\n",
    "\n",
    "pd.set_option('max_columns', 85)"
   ]
  },
  {
   "cell_type": "markdown",
   "metadata": {},
   "source": [
    "# Get Data\n",
    "\n",
    "[Return to Table of Contents](#Contents:)"
   ]
  },
  {
   "cell_type": "code",
   "execution_count": 2,
   "metadata": {},
   "outputs": [],
   "source": [
    "# GET COUNTRIES\n",
    "country_names = [c_name for c_name in pd.read_csv('./data/country_names.csv')['name']]\n",
    "# SOURCES: http://worldpopulationreview.com/countries/most-visited-countries/\n",
    "    # & https://www.travel-advisory.info/api"
   ]
  },
  {
   "cell_type": "code",
   "execution_count": 3,
   "metadata": {},
   "outputs": [],
   "source": [
    "url_api_base = 'https://api.pushshift.io'\n",
    "url_comment = '/reddit/search/comment'\n",
    "url_submission = '/reddit/search/submission'"
   ]
  },
  {
   "cell_type": "code",
   "execution_count": 4,
   "metadata": {},
   "outputs": [],
   "source": [
    "travel_subreddits = ['shoestring', 'travel', 'wanderlust', 'solotravel', 'backpacking', 'campingandhiking',\n",
    "                     'adventures', 'remoteplaces', 'longtermtravel', 'digitalnomad']\n",
    "\n",
    "\n",
    "# Source: https://www.travelingmitch.com/mostrecent/travel-subreddits-tour-the-world"
   ]
  },
  {
   "cell_type": "code",
   "execution_count": 5,
   "metadata": {},
   "outputs": [
    {
     "data": {
      "text/plain": [
       "(33430, 83)"
      ]
     },
     "execution_count": 5,
     "metadata": {},
     "output_type": "execute_result"
    }
   ],
   "source": [
    "dfs = []\n",
    "\n",
    "for c in country_names:\n",
    "    params = {\n",
    "        'subreddit': travel_subreddits,\n",
    "        'q' : c, \n",
    "        'before': '90d',\n",
    "        'after':'365d',\n",
    "        'size':1000,\n",
    "        'is_self' : 'true',\n",
    "    }\n",
    "    res = requests.get(url_api_base+url_submission, params)\n",
    "    df_res = pd.DataFrame(res.json()['data'])\n",
    "    df_res['country'] = c\n",
    "    dfs.append(df_res)\n",
    "\n",
    "df_travel = pd.concat(dfs, sort=True)\n",
    "df_travel.shape"
   ]
  },
  {
   "cell_type": "code",
   "execution_count": 6,
   "metadata": {},
   "outputs": [
    {
     "data": {
      "text/plain": [
       "\"Hello all!\\n\\nWe're very excited to announce that Alex, the badass solo traveling woman behind [Lost with Purpose](https://www.lostwithpurpose.com/) will be joining us on Saturday, May 18 for an AMA!\\n\\nHere's an introduction from Alex:\\n\\n---\\n\\n\\nHey y'all! I'm Alex, a 28-year-old American solo female traveler and the creative brain behind Lost With Purpose travel blog [(lostwithpurpose.com)] (www.lostwithpurpose.com).\\n\\nFor the last three-ish years I've been backpacking full time, often roaming through countries people warned me to be well wary of such as Pakistan, Afghanistan, and Iran. People often think I'm either A) crazy or B) a member of ISIS but I assure you only A is true.\\n\\nIn the last three years I traveled through: Georgia, Armenia, Iran, Pakistan, China, Kazakhstan, Kyrgyzstan, Uzbekistan, Afghanistan, India, Nepal, Bhutan, and Bangladesh. The whole world calls to me, but I have a special place in my heart (and passport) for South Asia, particularly India and Pakistan where together I've spent more than a year and a half in total.\\n\\nDuring the last few years I've scaled ancient fortresses, seen gods dance, and road tripped across deserts. Overland travel is my MO; I've taken every kind of public transport under the sun from camping on floors of ferries to hitching rides with army convoys. While traveling I've gone through a breakup, lost family and friends, and fell in love when I least wanted it. I've eaten a million different kinds of street food by now, and had about as many bouts of diarrhea (I find it strangely satisfying at this point). I braved gynecological adventures in patriarchal India, and was saved from a foul and watery doom in a clinic in Afghanistan. Just last year I learned to motorbike in the chaotic traffic of Pakistan, and worked as a photographer for an organization helping refugees in Thailand. Let's just say I've been around the block.\\n\\nAt this point, I love to share about my travels in the hopes of inspiring and helping others to travel, as well as smashing stereotypes about the countries I visit. Oh, and of course it's always fun to prove that girls can get to some crazy places in this world, too.\\n\\nGet at me with your questions! No thought is too silly, no inquiry too freaky. I think.\\n\\n\\n--\\n\\n\\nOn Saturday, May 18th, Alex will be joining us from Pakistan at 10 PM GMT+5 to answer your questions! For those of you in other time zones: that's 7 PM GMT+1 (CEST), 6 PM GMT, and 1 PM EST (GMT-4).\\n\\nWe're going to start collecting questions now, so for anyone who's not sure they'll be able to make the AMA in real-time, please post your questions below and the mods will move them over to the AMA on the day of.\\n\\nIn the meantime: do check out [Lost with Purpose] (https://www.lostwithpurpose.com/)! Alex is one of my personal travel heroes and her blog is chock-full of fantastic information--you might have seen it on BBC, LonelyPlanet, CNN, Vice, and other major outlets. We're so, so excited to have her here, so please! Hit this thread up with your questions!\""
      ]
     },
     "execution_count": 6,
     "metadata": {},
     "output_type": "execute_result"
    }
   ],
   "source": [
    "df_travel['selftext'].iloc[2050]"
   ]
  },
  {
   "cell_type": "code",
   "execution_count": 7,
   "metadata": {},
   "outputs": [
    {
     "data": {
      "text/plain": [
       "travel              14669\n",
       "solotravel          13519\n",
       "backpacking          2609\n",
       "digitalnomad         1176\n",
       "Shoestring           1040\n",
       "CampingandHiking      219\n",
       "longtermtravel        107\n",
       "wanderlust             50\n",
       "adventures             35\n",
       "remoteplaces            6\n",
       "Name: subreddit, dtype: int64"
      ]
     },
     "execution_count": 7,
     "metadata": {},
     "output_type": "execute_result"
    }
   ],
   "source": [
    "df_travel['subreddit'].value_counts()"
   ]
  },
  {
   "cell_type": "code",
   "execution_count": 8,
   "metadata": {},
   "outputs": [
    {
     "data": {
      "text/plain": [
       "(5826, 83)"
      ]
     },
     "execution_count": 8,
     "metadata": {},
     "output_type": "execute_result"
    }
   ],
   "source": [
    "\n",
    "dfs2 = []\n",
    "for c in country_names:\n",
    "    params_sub = {\n",
    "        'subreddit' : c, \n",
    "        'q' : 'travel',\n",
    "        'before': f'90d',\n",
    "        'after':f'365d',\n",
    "        'size':1000,\n",
    "        'is_self' : 'true',\n",
    "    }\n",
    "    \n",
    "    res = requests.get(url_api_base+url_submission, params_sub)\n",
    "    df_res = pd.DataFrame(res.json()['data'])\n",
    "    df_res['country'] = c\n",
    "    dfs2.append(df_res)\n",
    "    \n",
    "    time.sleep(1)\n",
    "\n",
    "df_country_subreddits = pd.concat(dfs2, sort=True)\n",
    "df_country_subreddits.shape"
   ]
  },
  {
   "cell_type": "code",
   "execution_count": 9,
   "metadata": {},
   "outputs": [
    {
     "data": {
      "text/plain": [
       "'Hi! I am traveling to Italy in October for a wedding in Ravello. I fly in and out of Naples. After the wedding I have 8 days to travel. I will be renting a car and doing a roadtrip, and am looking for recommendations for towns to visit. I am open to all suggestions but am less interested in the touristy areas.\\n\\nAlso, I am wondering if it is difficult to rent a care and travel to islands. If I wanted to go to Capri, should I wait until after that to rent a car?'"
      ]
     },
     "execution_count": 9,
     "metadata": {},
     "output_type": "execute_result"
    }
   ],
   "source": [
    "df_country_subreddits['selftext'].iloc[3000]"
   ]
  },
  {
   "cell_type": "code",
   "execution_count": 10,
   "metadata": {},
   "outputs": [
    {
     "data": {
      "text/plain": [
       "india            528\n",
       "Philippines      421\n",
       "canada           244\n",
       "germany          235\n",
       "VietNam          210\n",
       "                ... \n",
       "Paraguay           1\n",
       "Angola             1\n",
       "Benin              1\n",
       "Rwanda             1\n",
       "liechtenstein      1\n",
       "Name: subreddit, Length: 125, dtype: int64"
      ]
     },
     "execution_count": 10,
     "metadata": {},
     "output_type": "execute_result"
    }
   ],
   "source": [
    "df_country_subreddits['subreddit'].value_counts()"
   ]
  },
  {
   "cell_type": "markdown",
   "metadata": {},
   "source": [
    "# Preprocessing\n",
    "\n",
    "[Return to Table of Contents](#Contents:)"
   ]
  },
  {
   "cell_type": "code",
   "execution_count": 11,
   "metadata": {},
   "outputs": [
    {
     "data": {
      "text/plain": [
       "(39256, 5)"
      ]
     },
     "execution_count": 11,
     "metadata": {},
     "output_type": "execute_result"
    }
   ],
   "source": [
    "important_cols = ['country', 'subreddit', 'selftext', 'title', 'subreddit_subscribers']\n",
    "df_travel = df_travel[important_cols].copy()\n",
    "df_country_subreddits = df_country_subreddits[important_cols].copy()\n",
    "df = pd.concat([df_travel, df_country_subreddits], ignore_index=True)\n",
    "df.shape"
   ]
  },
  {
   "cell_type": "code",
   "execution_count": 12,
   "metadata": {},
   "outputs": [
    {
     "data": {
      "text/plain": [
       "(31582, 5)"
      ]
     },
     "execution_count": 12,
     "metadata": {},
     "output_type": "execute_result"
    }
   ],
   "source": [
    "df = df[df['selftext']!='[removed]'].copy()\n",
    "df = df[df['selftext']!='[deleted]'].copy()\n",
    "\n",
    "df.shape"
   ]
  },
  {
   "cell_type": "code",
   "execution_count": 13,
   "metadata": {},
   "outputs": [
    {
     "data": {
      "text/plain": [
       "39251    Is there any way for me to get a travel card s...\n",
       "39252    How to travel to Dubai?  Does anyone know how ...\n",
       "39253    How to renew passport in Sana'a  I am sorry th...\n",
       "39254    I recently visited and didn't manage to bring ...\n",
       "39255    I am a medical student from the US and will be...\n",
       "Name: all_words, dtype: object"
      ]
     },
     "execution_count": 13,
     "metadata": {},
     "output_type": "execute_result"
    }
   ],
   "source": [
    "df['all_words'] = df['title'] + '  ' + df['selftext']\n",
    "df['all_words'].tail()"
   ]
  },
  {
   "cell_type": "code",
   "execution_count": 14,
   "metadata": {},
   "outputs": [
    {
     "data": {
      "text/html": [
       "<div>\n",
       "<style scoped>\n",
       "    .dataframe tbody tr th:only-of-type {\n",
       "        vertical-align: middle;\n",
       "    }\n",
       "\n",
       "    .dataframe tbody tr th {\n",
       "        vertical-align: top;\n",
       "    }\n",
       "\n",
       "    .dataframe thead th {\n",
       "        text-align: right;\n",
       "    }\n",
       "</style>\n",
       "<table border=\"1\" class=\"dataframe\">\n",
       "  <thead>\n",
       "    <tr style=\"text-align: right;\">\n",
       "      <th></th>\n",
       "      <th>country</th>\n",
       "      <th>subreddit</th>\n",
       "      <th>selftext</th>\n",
       "      <th>title</th>\n",
       "      <th>subreddit_subscribers</th>\n",
       "      <th>all_words</th>\n",
       "    </tr>\n",
       "  </thead>\n",
       "  <tbody>\n",
       "    <tr>\n",
       "      <th>0</th>\n",
       "      <td>Andorra</td>\n",
       "      <td>solotravel</td>\n",
       "      <td>TLDR: one week trip to Barcelona in September....</td>\n",
       "      <td>Booked my next trip, $411 RT from PHL to Barce...</td>\n",
       "      <td>530740.0</td>\n",
       "      <td>Booked my next trip, $411 RT from PHL to Barce...</td>\n",
       "    </tr>\n",
       "    <tr>\n",
       "      <th>1</th>\n",
       "      <td>Andorra</td>\n",
       "      <td>solotravel</td>\n",
       "      <td>Hello.\\n\\n&amp;amp;#x200B;\\n\\nI was born and live ...</td>\n",
       "      <td>Find my country by criteria</td>\n",
       "      <td>541638.0</td>\n",
       "      <td>Find my country by criteria  Hello.\\n\\n&amp;amp;#x...</td>\n",
       "    </tr>\n",
       "    <tr>\n",
       "      <th>2</th>\n",
       "      <td>Andorra</td>\n",
       "      <td>travel</td>\n",
       "      <td>**179 countries are eligible for E-VISA, aroun...</td>\n",
       "      <td>After the successful trial with 5 countries, P...</td>\n",
       "      <td>2619362.0</td>\n",
       "      <td>After the successful trial with 5 countries, P...</td>\n",
       "    </tr>\n",
       "    <tr>\n",
       "      <th>3</th>\n",
       "      <td>Andorra</td>\n",
       "      <td>solotravel</td>\n",
       "      <td>21m from Aus gonna be traveling Europe January...</td>\n",
       "      <td>Europe in winter tips</td>\n",
       "      <td>568773.0</td>\n",
       "      <td>Europe in winter tips  21m from Aus gonna be t...</td>\n",
       "    </tr>\n",
       "    <tr>\n",
       "      <th>4</th>\n",
       "      <td>Andorra</td>\n",
       "      <td>digitalnomad</td>\n",
       "      <td>Hey there,\\n\\nAbout to become nomad, traveling...</td>\n",
       "      <td>Ideal tax setup for a European Nomad traveling...</td>\n",
       "      <td>456062.0</td>\n",
       "      <td>Ideal tax setup for a European Nomad traveling...</td>\n",
       "    </tr>\n",
       "  </tbody>\n",
       "</table>\n",
       "</div>"
      ],
      "text/plain": [
       "   country     subreddit                                           selftext  \\\n",
       "0  Andorra    solotravel  TLDR: one week trip to Barcelona in September....   \n",
       "1  Andorra    solotravel  Hello.\\n\\n&amp;#x200B;\\n\\nI was born and live ...   \n",
       "2  Andorra        travel  **179 countries are eligible for E-VISA, aroun...   \n",
       "3  Andorra    solotravel  21m from Aus gonna be traveling Europe January...   \n",
       "4  Andorra  digitalnomad  Hey there,\\n\\nAbout to become nomad, traveling...   \n",
       "\n",
       "                                               title  subreddit_subscribers  \\\n",
       "0  Booked my next trip, $411 RT from PHL to Barce...               530740.0   \n",
       "1                        Find my country by criteria               541638.0   \n",
       "2  After the successful trial with 5 countries, P...              2619362.0   \n",
       "3                              Europe in winter tips               568773.0   \n",
       "4  Ideal tax setup for a European Nomad traveling...               456062.0   \n",
       "\n",
       "                                           all_words  \n",
       "0  Booked my next trip, $411 RT from PHL to Barce...  \n",
       "1  Find my country by criteria  Hello.\\n\\n&amp;#x...  \n",
       "2  After the successful trial with 5 countries, P...  \n",
       "3  Europe in winter tips  21m from Aus gonna be t...  \n",
       "4  Ideal tax setup for a European Nomad traveling...  "
      ]
     },
     "execution_count": 14,
     "metadata": {},
     "output_type": "execute_result"
    }
   ],
   "source": [
    "df.head()\n",
    "# df[['country', 'subreddit', 'selftext', 'title', 'subreddit_subscribers']].head(7)"
   ]
  },
  {
   "cell_type": "code",
   "execution_count": 15,
   "metadata": {},
   "outputs": [
    {
     "data": {
      "text/plain": [
       "country                   0\n",
       "subreddit                 0\n",
       "selftext                 14\n",
       "title                     0\n",
       "subreddit_subscribers     0\n",
       "all_words                14\n",
       "dtype: int64"
      ]
     },
     "execution_count": 15,
     "metadata": {},
     "output_type": "execute_result"
    }
   ],
   "source": [
    "df.isnull().sum()"
   ]
  },
  {
   "cell_type": "code",
   "execution_count": 16,
   "metadata": {},
   "outputs": [],
   "source": [
    "df.dropna(inplace=True)"
   ]
  },
  {
   "cell_type": "code",
   "execution_count": 17,
   "metadata": {},
   "outputs": [
    {
     "data": {
      "text/plain": [
       "(31568, 6)"
      ]
     },
     "execution_count": 17,
     "metadata": {},
     "output_type": "execute_result"
    }
   ],
   "source": [
    "df.shape"
   ]
  },
  {
   "cell_type": "code",
   "execution_count": 18,
   "metadata": {},
   "outputs": [],
   "source": [
    "df.to_csv('./data/subreddits.csv', index=False)"
   ]
  },
  {
   "cell_type": "code",
   "execution_count": 20,
   "metadata": {},
   "outputs": [
    {
     "data": {
      "image/png": "[encoded data removed]",
      "text/plain": [
       "<Figure size 720x432 with 1 Axes>"
      ]
     },
     "metadata": {
      "needs_background": "light"
     },
     "output_type": "display_data"
    }
   ],
   "source": [
    "# Visualization of Word Frequency across all subreddits\n",
    "\n",
    "cv = CountVectorizer(max_df=.9,\n",
    "                     stop_words=ENGLISH_STOP_WORDS,\n",
    "                     max_features= 700,\n",
    "                     ngram_range= (1,3))\n",
    "\n",
    "df_X_cv_nostop = pd.DataFrame(cv.fit_transform(df['all_words']).todense(),\n",
    "              columns=cv.get_feature_names())\n",
    "\n",
    "fig , ax = plt.subplots(figsize=(10,6))\n",
    "\n",
    "df_X_cv_nostop.sum().sort_values().tail(20).plot.barh();"
   ]
  }
 ],
 "metadata": {
  "kernelspec": {
   "display_name": "Python 3",
   "language": "python",
   "name": "python3"
  },
  "language_info": {
   "codemirror_mode": {
    "name": "ipython",
    "version": 3
   },
   "file_extension": ".py",
   "mimetype": "text/x-python",
   "name": "python",
   "nbconvert_exporter": "python",
   "pygments_lexer": "ipython3",
   "version": "3.8.2"
  }
 },
 "nbformat": 4,
 "nbformat_minor": 2
}
