{
 "cells": [
  {
   "cell_type": "code",
   "execution_count": 1,
   "metadata": {},
   "outputs": [],
   "source": [
    "import pandas as pd\n",
    "import requests\n",
    "import json\n",
    "import logging\n",
    "from bs4 import BeautifulSoup\n",
    "import time"
   ]
  },
  {
   "cell_type": "code",
   "execution_count": 2,
   "metadata": {},
   "outputs": [
    {
     "name": "stdout",
     "output_type": "stream",
     "text": [
      "['France', 'United States', 'Spain', 'China', 'Italy', 'United Kingdom', 'Germany', 'Mexico', 'Thailand', 'Turkey', 'Austria', 'Malaysia', 'Hong Kong', 'Greece', 'Russia', 'Japan', 'Canada', 'Portugal', 'Saudi Arabia', 'Poland']\n"
     ]
    }
   ],
   "source": [
    "# GET TOP TOURISM COUNTRIES\n",
    "df_tourism = pd.read_csv('./data/most_traveled_countries.csv')\n",
    "# SOURCE: http://worldpopulationreview.com/countries/most-visited-countries/\n",
    "# df_tourism.head()\n",
    "\n",
    "top20 = list(df_tourism.sort_values(by='touristArrivals', ascending=False)['name'][:20])\n",
    "print(top20)"
   ]
  },
  {
   "cell_type": "code",
   "execution_count": 3,
   "metadata": {},
   "outputs": [],
   "source": [
    "# GET COUNTRIES\n",
    "country_names = [c_name for c_name in pd.read_csv('./data/country_names.csv')['name']]\n",
    "# SOURCES: http://worldpopulationreview.com/countries/most-visited-countries/\n",
    "    # & https://www.travel-advisory.info/api\n"
   ]
  },
  {
   "cell_type": "code",
   "execution_count": 4,
   "metadata": {},
   "outputs": [
    {
     "data": {
      "text/plain": [
       "178"
      ]
     },
     "execution_count": 4,
     "metadata": {},
     "output_type": "execute_result"
    }
   ],
   "source": [
    "len(country_names)"
   ]
  },
  {
   "cell_type": "code",
   "execution_count": 5,
   "metadata": {},
   "outputs": [
    {
     "name": "stdout",
     "output_type": "stream",
     "text": [
      "Shape of dataframe: (298, 4)\n"
     ]
    },
    {
     "data": {
      "text/html": [
       "<div>\n",
       "<style scoped>\n",
       "    .dataframe tbody tr th:only-of-type {\n",
       "        vertical-align: middle;\n",
       "    }\n",
       "\n",
       "    .dataframe tbody tr th {\n",
       "        vertical-align: top;\n",
       "    }\n",
       "\n",
       "    .dataframe thead th {\n",
       "        text-align: right;\n",
       "    }\n",
       "</style>\n",
       "<table border=\"1\" class=\"dataframe\">\n",
       "  <thead>\n",
       "    <tr style=\"text-align: right;\">\n",
       "      <th></th>\n",
       "      <th>href</th>\n",
       "      <th>title</th>\n",
       "      <th>country</th>\n",
       "      <th>text</th>\n",
       "    </tr>\n",
       "  </thead>\n",
       "  <tbody>\n",
       "    <tr>\n",
       "      <th>6</th>\n",
       "      <td>https://www.bemytravelmuse.com/Austria-guide/</td>\n",
       "      <td>Austria guide</td>\n",
       "      <td>Austria</td>\n",
       "      <td>Austria, your are so darn beautiful. I just ca...</td>\n",
       "    </tr>\n",
       "    <tr>\n",
       "      <th>8</th>\n",
       "      <td>https://www.bemytravelmuse.com/Aruba-guide/</td>\n",
       "      <td>Aruba guide</td>\n",
       "      <td>Aruba</td>\n",
       "      <td>Quick Tips'Hello' and 'Thank You' in Papiame...</td>\n",
       "    </tr>\n",
       "    <tr>\n",
       "      <th>25</th>\n",
       "      <td>https://www.bemytravelmuse.com/Botswana-guide/</td>\n",
       "      <td>Botswana guide</td>\n",
       "      <td>Botswana</td>\n",
       "      <td>Botswana is my favorite country for wildlife v...</td>\n",
       "    </tr>\n",
       "    <tr>\n",
       "      <th>27</th>\n",
       "      <td>https://www.bemytravelmuse.com/Canada-guide/</td>\n",
       "      <td>Canada guide</td>\n",
       "      <td>Canada</td>\n",
       "      <td>Oh Canada, how I love your gorgeous national a...</td>\n",
       "    </tr>\n",
       "    <tr>\n",
       "      <th>30</th>\n",
       "      <td>https://www.bemytravelmuse.com/Switzerland-guide/</td>\n",
       "      <td>Switzerland guide</td>\n",
       "      <td>Switzerland</td>\n",
       "      <td>Switzerland is the type of place where you mig...</td>\n",
       "    </tr>\n",
       "  </tbody>\n",
       "</table>\n",
       "</div>"
      ],
      "text/plain": [
       "                                                 href              title  \\\n",
       "6       https://www.bemytravelmuse.com/Austria-guide/      Austria guide   \n",
       "8         https://www.bemytravelmuse.com/Aruba-guide/        Aruba guide   \n",
       "25     https://www.bemytravelmuse.com/Botswana-guide/     Botswana guide   \n",
       "27       https://www.bemytravelmuse.com/Canada-guide/       Canada guide   \n",
       "30  https://www.bemytravelmuse.com/Switzerland-guide/  Switzerland guide   \n",
       "\n",
       "        country                                               text  \n",
       "6       Austria  Austria, your are so darn beautiful. I just ca...  \n",
       "8         Aruba    Quick Tips'Hello' and 'Thank You' in Papiame...  \n",
       "25     Botswana  Botswana is my favorite country for wildlife v...  \n",
       "27       Canada  Oh Canada, how I love your gorgeous national a...  \n",
       "30  Switzerland  Switzerland is the type of place where you mig...  "
      ]
     },
     "execution_count": 5,
     "metadata": {},
     "output_type": "execute_result"
    }
   ],
   "source": [
    "# GET ALL URLS FOR 20 COUNTRIES\n",
    "guides = []\n",
    "articles = []\n",
    "for country in country_names:\n",
    "#     print(f'Searching {country}...')\n",
    "#     for n in range(1, 10):\n",
    "    try:\n",
    "        url_base = f'https://www.bemytravelmuse.com/{country}-guide/'\n",
    "        res_ = requests.get(url_base)\n",
    "        soup_ = BeautifulSoup(res_.content, 'lxml')\n",
    "        time.sleep(1)\n",
    "\n",
    "        guide = {}\n",
    "        guide['href'] = url_base\n",
    "        guide['title'] = f'{country} guide'\n",
    "        guide['country'] = country\n",
    "\n",
    "        paragraphs = soup_.find_all(attrs={'class': 'so-panel widget widget_sow-editor panel-last-child'})\n",
    "        ls_words = soup_.find_all(attrs={'class': 'so-widget-sow-editor so-widget-sow-editor-base'})\n",
    "        all_words = [p.text.replace('\\n', '') for p in paragraphs] + [w.text.replace('\\n', '') for w in ls_words]\n",
    "        text = ' '.join(all_words)\n",
    "        guide['text'] = text\n",
    "\n",
    "        guides.append(guide)\n",
    "        \n",
    "    except:\n",
    "        print(f'Error while pulling guide data for {country}.')\n",
    "        \n",
    "    try:\n",
    "        \n",
    "        for link in soup_.find_all('h2', attrs={'class':'entry-title'}):\n",
    "            article = {}\n",
    "            article['href'] = link.find('a')['href']\n",
    "            article['title'] = link.find('a').text.strip()\n",
    "            article['country'] = country\n",
    "            articles.append(article)\n",
    "\n",
    "    except:\n",
    "        print(f'Error while pulling url data for {country}.')\n",
    "\n",
    "df_articles = pd.DataFrame(articles)\n",
    "        \n",
    "try:    \n",
    "    content_filed = []\n",
    "    for url in df_articles['href']:\n",
    "        res_post = requests.get(url)\n",
    "        soup_post = BeautifulSoup(res_post.content, 'lxml')\n",
    "\n",
    "        paragraphs = soup_post.find_all('p', attrs={'class': None}) \n",
    "\n",
    "        text = ' '.join([paragraph.text.replace('\\n', '') for paragraph in paragraphs])\n",
    "        content_filed.append(text)\n",
    "\n",
    "        time.sleep(1)\n",
    "    df_articles['text'] = content_filed\n",
    "\n",
    "\n",
    "except:\n",
    "    print(f'Error while pulling url content.')\n",
    "        \n",
    "\n",
    "df = pd.DataFrame(guides)\n",
    "df = df.append(df_articles, ignore_index=True)\n",
    "df = df[df['text']!='']\n",
    "\n",
    "print('Shape of dataframe:', df.shape)\n",
    "df.head()"
   ]
  },
  {
   "cell_type": "code",
   "execution_count": 6,
   "metadata": {},
   "outputs": [
    {
     "data": {
      "text/html": [
       "<div>\n",
       "<style scoped>\n",
       "    .dataframe tbody tr th:only-of-type {\n",
       "        vertical-align: middle;\n",
       "    }\n",
       "\n",
       "    .dataframe tbody tr th {\n",
       "        vertical-align: top;\n",
       "    }\n",
       "\n",
       "    .dataframe thead th {\n",
       "        text-align: right;\n",
       "    }\n",
       "</style>\n",
       "<table border=\"1\" class=\"dataframe\">\n",
       "  <thead>\n",
       "    <tr style=\"text-align: right;\">\n",
       "      <th></th>\n",
       "      <th>href</th>\n",
       "      <th>title</th>\n",
       "      <th>country</th>\n",
       "      <th>text</th>\n",
       "    </tr>\n",
       "  </thead>\n",
       "  <tbody>\n",
       "    <tr>\n",
       "      <th>435</th>\n",
       "      <td>https://www.bemytravelmuse.com/what-does-it-co...</td>\n",
       "      <td>What Does It Cost to Travel in South Africa?</td>\n",
       "      <td>South Africa</td>\n",
       "      <td>In this installment of Tips From the Banker, w...</td>\n",
       "    </tr>\n",
       "    <tr>\n",
       "      <th>436</th>\n",
       "      <td>https://www.bemytravelmuse.com/wine-tasting-in...</td>\n",
       "      <td>Get Your Vino on In Stellenbosch, South Africa</td>\n",
       "      <td>South Africa</td>\n",
       "      <td>Each place in this world that is known for win...</td>\n",
       "    </tr>\n",
       "    <tr>\n",
       "      <th>437</th>\n",
       "      <td>https://www.bemytravelmuse.com/south-africa-ra...</td>\n",
       "      <td>7 Reasons to Visit South Africa, the Rainbow N...</td>\n",
       "      <td>South Africa</td>\n",
       "      <td>“Everyone of whatever race, nation or creed wh...</td>\n",
       "    </tr>\n",
       "    <tr>\n",
       "      <th>438</th>\n",
       "      <td>https://www.bemytravelmuse.com/tallest-bungee-...</td>\n",
       "      <td>Taking a Long Walk Off a Short Bridge: The Wor...</td>\n",
       "      <td>South Africa</td>\n",
       "      <td>To be more correct, the bungee jump at Bloukra...</td>\n",
       "    </tr>\n",
       "    <tr>\n",
       "      <th>439</th>\n",
       "      <td>https://www.bemytravelmuse.com/karoo-south-afr...</td>\n",
       "      <td>The Peaceful Perfection of The Karoo in South ...</td>\n",
       "      <td>South Africa</td>\n",
       "      <td>Have you ever felt truly alone? Not in the sen...</td>\n",
       "    </tr>\n",
       "  </tbody>\n",
       "</table>\n",
       "</div>"
      ],
      "text/plain": [
       "                                                  href  \\\n",
       "435  https://www.bemytravelmuse.com/what-does-it-co...   \n",
       "436  https://www.bemytravelmuse.com/wine-tasting-in...   \n",
       "437  https://www.bemytravelmuse.com/south-africa-ra...   \n",
       "438  https://www.bemytravelmuse.com/tallest-bungee-...   \n",
       "439  https://www.bemytravelmuse.com/karoo-south-afr...   \n",
       "\n",
       "                                                 title       country  \\\n",
       "435       What Does It Cost to Travel in South Africa?  South Africa   \n",
       "436     Get Your Vino on In Stellenbosch, South Africa  South Africa   \n",
       "437  7 Reasons to Visit South Africa, the Rainbow N...  South Africa   \n",
       "438  Taking a Long Walk Off a Short Bridge: The Wor...  South Africa   \n",
       "439  The Peaceful Perfection of The Karoo in South ...  South Africa   \n",
       "\n",
       "                                                  text  \n",
       "435  In this installment of Tips From the Banker, w...  \n",
       "436  Each place in this world that is known for win...  \n",
       "437  “Everyone of whatever race, nation or creed wh...  \n",
       "438  To be more correct, the bungee jump at Bloukra...  \n",
       "439  Have you ever felt truly alone? Not in the sen...  "
      ]
     },
     "execution_count": 6,
     "metadata": {},
     "output_type": "execute_result"
    }
   ],
   "source": [
    "df.tail()"
   ]
  },
  {
   "cell_type": "code",
   "execution_count": 7,
   "metadata": {},
   "outputs": [],
   "source": [
    "df.to_csv('./data/articles_bemytravelmuse.csv', index=False)"
   ]
  }
 ],
 "metadata": {
  "kernelspec": {
   "display_name": "Python 3",
   "language": "python",
   "name": "python3"
  },
  "language_info": {
   "codemirror_mode": {
    "name": "ipython",
    "version": 3
   },
   "file_extension": ".py",
   "mimetype": "text/x-python",
   "name": "python",
   "nbconvert_exporter": "python",
   "pygments_lexer": "ipython3",
   "version": "3.8.2"
  }
 },
 "nbformat": 4,
 "nbformat_minor": 4
}
