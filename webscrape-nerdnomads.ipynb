{
 "cells": [
  {
   "cell_type": "code",
   "execution_count": 1,
   "metadata": {},
   "outputs": [],
   "source": [
    "import pandas as pd\n",
    "import requests\n",
    "import json\n",
    "import logging\n",
    "from bs4 import BeautifulSoup\n",
    "import time"
   ]
  },
  {
   "cell_type": "code",
   "execution_count": 2,
   "metadata": {},
   "outputs": [
    {
     "name": "stdout",
     "output_type": "stream",
     "text": [
      "['France', 'United States', 'Spain', 'China', 'Italy', 'United Kingdom', 'Germany', 'Mexico', 'Thailand', 'Turkey', 'Austria', 'Malaysia', 'Hong Kong', 'Greece', 'Russia', 'Japan', 'Canada', 'Portugal', 'Saudi Arabia', 'Poland']\n"
     ]
    }
   ],
   "source": [
    "# GET TOP TOURISM COUNTRIES\n",
    "df_tourism = pd.read_csv('./data/most_traveled_countries.csv')\n",
    "# SOURCE: http://worldpopulationreview.com/countries/most-visited-countries/\n",
    "# df_tourism.head()\n",
    "\n",
    "top20 = list(df_tourism.sort_values(by='touristArrivals', ascending=False)['name'][:20])\n",
    "print(top20)"
   ]
  },
  {
   "cell_type": "code",
   "execution_count": 3,
   "metadata": {},
   "outputs": [],
   "source": [
    "# GET COUNTRIES\n",
    "country_names = [c_name for c_name in pd.read_csv('./data/country_names.csv')['name']]\n",
    "# SOURCES: http://worldpopulationreview.com/countries/most-visited-countries/\n",
    "    # & https://www.travel-advisory.info/api\n"
   ]
  },
  {
   "cell_type": "code",
   "execution_count": 4,
   "metadata": {},
   "outputs": [
    {
     "data": {
      "text/plain": [
       "178"
      ]
     },
     "execution_count": 4,
     "metadata": {},
     "output_type": "execute_result"
    }
   ],
   "source": [
    "len(country_names)"
   ]
  },
  {
   "cell_type": "code",
   "execution_count": 5,
   "metadata": {},
   "outputs": [
    {
     "name": "stdout",
     "output_type": "stream",
     "text": [
      "Shape of dataframe: (132, 3)\n"
     ]
    },
    {
     "data": {
      "text/html": [
       "<div>\n",
       "<style scoped>\n",
       "    .dataframe tbody tr th:only-of-type {\n",
       "        vertical-align: middle;\n",
       "    }\n",
       "\n",
       "    .dataframe tbody tr th {\n",
       "        vertical-align: top;\n",
       "    }\n",
       "\n",
       "    .dataframe thead th {\n",
       "        text-align: right;\n",
       "    }\n",
       "</style>\n",
       "<table border=\"1\" class=\"dataframe\">\n",
       "  <thead>\n",
       "    <tr style=\"text-align: right;\">\n",
       "      <th></th>\n",
       "      <th>href</th>\n",
       "      <th>title</th>\n",
       "      <th>country</th>\n",
       "    </tr>\n",
       "  </thead>\n",
       "  <tbody>\n",
       "    <tr>\n",
       "      <th>0</th>\n",
       "      <td>https://nerdnomads.com/komodo-national-park-to...</td>\n",
       "      <td>Eden Found? – Komodo National Park Day 3</td>\n",
       "      <td>Indonesia</td>\n",
       "    </tr>\n",
       "    <tr>\n",
       "      <th>1</th>\n",
       "      <td>https://nerdnomads.com/komodo-national-park-to...</td>\n",
       "      <td>In Search Of The Komodo Dragon – Komodo Nation...</td>\n",
       "      <td>Indonesia</td>\n",
       "    </tr>\n",
       "    <tr>\n",
       "      <th>2</th>\n",
       "      <td>https://nerdnomads.com/komodo-national-park-to...</td>\n",
       "      <td>The Adventure Begins – Komodo National Park Day 1</td>\n",
       "      <td>Indonesia</td>\n",
       "    </tr>\n",
       "    <tr>\n",
       "      <th>3</th>\n",
       "      <td>https://nerdnomads.com/hindu-masterpiece-pramb...</td>\n",
       "      <td>The Hindu Masterpiece – Prambanan Temple</td>\n",
       "      <td>Indonesia</td>\n",
       "    </tr>\n",
       "    <tr>\n",
       "      <th>4</th>\n",
       "      <td>https://nerdnomads.com/eat-pray-love-ubud-bali</td>\n",
       "      <td>Eat, Pray, Love In Ubud, Bali</td>\n",
       "      <td>Indonesia</td>\n",
       "    </tr>\n",
       "  </tbody>\n",
       "</table>\n",
       "</div>"
      ],
      "text/plain": [
       "                                                href  \\\n",
       "0  https://nerdnomads.com/komodo-national-park-to...   \n",
       "1  https://nerdnomads.com/komodo-national-park-to...   \n",
       "2  https://nerdnomads.com/komodo-national-park-to...   \n",
       "3  https://nerdnomads.com/hindu-masterpiece-pramb...   \n",
       "4     https://nerdnomads.com/eat-pray-love-ubud-bali   \n",
       "\n",
       "                                               title    country  \n",
       "0           Eden Found? – Komodo National Park Day 3  Indonesia  \n",
       "1  In Search Of The Komodo Dragon – Komodo Nation...  Indonesia  \n",
       "2  The Adventure Begins – Komodo National Park Day 1  Indonesia  \n",
       "3           The Hindu Masterpiece – Prambanan Temple  Indonesia  \n",
       "4                      Eat, Pray, Love In Ubud, Bali  Indonesia  "
      ]
     },
     "execution_count": 5,
     "metadata": {},
     "output_type": "execute_result"
    }
   ],
   "source": [
    "# GET ALL URLS FOR 20 COUNTRIES\n",
    "articles = []\n",
    "for country in country_names:\n",
    "#     print(f'Searching {country}...')\n",
    "    for n in range(1, 4):\n",
    "        try:\n",
    "            url_base = f'https://nerdnomads.com/{country}'\n",
    "            res_ = requests.get(url_base)\n",
    "            soup_ = BeautifulSoup(res_.content, 'lxml')\n",
    "            time.sleep(1)\n",
    "\n",
    "            for link in soup_.find_all(attrs={'class': 'grid-title'}):\n",
    "                article = {}\n",
    "                article['href'] = link.find('a').attrs['href']\n",
    "                article['title'] = link.text.strip()\n",
    "                article['country'] = country\n",
    "                articles.append(article)\n",
    "        except:\n",
    "            print(f'Error with {country} at page {n}.')\n",
    "\n",
    "df = pd.DataFrame(articles)\n",
    "# df.to_csv('./data/all_articles.csv')\n",
    "print('Shape of dataframe:', df.shape)\n",
    "df.head()"
   ]
  },
  {
   "cell_type": "code",
   "execution_count": 6,
   "metadata": {},
   "outputs": [],
   "source": [
    "content_filed = []\n",
    "for url in df['href']:\n",
    "    res_post = requests.get(url)\n",
    "    soup_post = BeautifulSoup(res_post.content, 'lxml')\n",
    "\n",
    "    paragraphs = soup_post.find_all('p', attrs={'class': None})\n",
    "\n",
    "    text = ' '.join([paragraph.text.replace('\\n', '') for paragraph in paragraphs])\n",
    "    content_filed.append(text)\n",
    "    \n",
    "    time.sleep(1)\n",
    "df['text'] = content_filed"
   ]
  },
  {
   "cell_type": "code",
   "execution_count": 7,
   "metadata": {},
   "outputs": [
    {
     "data": {
      "text/html": [
       "<div>\n",
       "<style scoped>\n",
       "    .dataframe tbody tr th:only-of-type {\n",
       "        vertical-align: middle;\n",
       "    }\n",
       "\n",
       "    .dataframe tbody tr th {\n",
       "        vertical-align: top;\n",
       "    }\n",
       "\n",
       "    .dataframe thead th {\n",
       "        text-align: right;\n",
       "    }\n",
       "</style>\n",
       "<table border=\"1\" class=\"dataframe\">\n",
       "  <thead>\n",
       "    <tr style=\"text-align: right;\">\n",
       "      <th></th>\n",
       "      <th>href</th>\n",
       "      <th>title</th>\n",
       "      <th>country</th>\n",
       "      <th>text</th>\n",
       "    </tr>\n",
       "  </thead>\n",
       "  <tbody>\n",
       "    <tr>\n",
       "      <th>127</th>\n",
       "      <td>https://nerdnomads.com/golden-mount-wat-saket-...</td>\n",
       "      <td>Bangkok´s Temple In The Sky – Golden Mount (Wa...</td>\n",
       "      <td>Thailand</td>\n",
       "      <td>The sound of chanting monks and bells ring sof...</td>\n",
       "    </tr>\n",
       "    <tr>\n",
       "      <th>128</th>\n",
       "      <td>https://nerdnomads.com/thai-boxing-bangkok</td>\n",
       "      <td>Experiencing Thai Boxing in Bangkok</td>\n",
       "      <td>Thailand</td>\n",
       "      <td>My pulse is hammering in my ears. I’m breathin...</td>\n",
       "    </tr>\n",
       "    <tr>\n",
       "      <th>129</th>\n",
       "      <td>https://nerdnomads.com/where-to-stay-in-bangkok</td>\n",
       "      <td>Where To Stay In Bangkok – Our Favourite Areas...</td>\n",
       "      <td>Thailand</td>\n",
       "      <td>Being a popular tourist destination, Bangkok i...</td>\n",
       "    </tr>\n",
       "    <tr>\n",
       "      <th>130</th>\n",
       "      <td>https://nerdnomads.com/what-to-do-in-bangkok</td>\n",
       "      <td>What To Do In Bangkok – A 3 Day Bangkok Itinerary</td>\n",
       "      <td>Thailand</td>\n",
       "      <td>Bangkok or Krung Thep, “City of Angels“, is li...</td>\n",
       "    </tr>\n",
       "    <tr>\n",
       "      <th>131</th>\n",
       "      <td>https://nerdnomads.com/lumphini-park</td>\n",
       "      <td>A Green Oasis – Lumphini Park, Bangkok</td>\n",
       "      <td>Thailand</td>\n",
       "      <td>Lumphini Park is the biggest park in Bangkok, ...</td>\n",
       "    </tr>\n",
       "  </tbody>\n",
       "</table>\n",
       "</div>"
      ],
      "text/plain": [
       "                                                  href  \\\n",
       "127  https://nerdnomads.com/golden-mount-wat-saket-...   \n",
       "128         https://nerdnomads.com/thai-boxing-bangkok   \n",
       "129    https://nerdnomads.com/where-to-stay-in-bangkok   \n",
       "130       https://nerdnomads.com/what-to-do-in-bangkok   \n",
       "131               https://nerdnomads.com/lumphini-park   \n",
       "\n",
       "                                                 title   country  \\\n",
       "127  Bangkok´s Temple In The Sky – Golden Mount (Wa...  Thailand   \n",
       "128                Experiencing Thai Boxing in Bangkok  Thailand   \n",
       "129  Where To Stay In Bangkok – Our Favourite Areas...  Thailand   \n",
       "130  What To Do In Bangkok – A 3 Day Bangkok Itinerary  Thailand   \n",
       "131             A Green Oasis – Lumphini Park, Bangkok  Thailand   \n",
       "\n",
       "                                                  text  \n",
       "127  The sound of chanting monks and bells ring sof...  \n",
       "128  My pulse is hammering in my ears. I’m breathin...  \n",
       "129  Being a popular tourist destination, Bangkok i...  \n",
       "130  Bangkok or Krung Thep, “City of Angels“, is li...  \n",
       "131  Lumphini Park is the biggest park in Bangkok, ...  "
      ]
     },
     "execution_count": 7,
     "metadata": {},
     "output_type": "execute_result"
    }
   ],
   "source": [
    "df.tail()"
   ]
  },
  {
   "cell_type": "code",
   "execution_count": 8,
   "metadata": {},
   "outputs": [],
   "source": [
    "df.to_csv('./data/articles_nerdnomads.csv', index=False)"
   ]
  }
 ],
 "metadata": {
  "kernelspec": {
   "display_name": "Python 3",
   "language": "python",
   "name": "python3"
  },
  "language_info": {
   "codemirror_mode": {
    "name": "ipython",
    "version": 3
   },
   "file_extension": ".py",
   "mimetype": "text/x-python",
   "name": "python",
   "nbconvert_exporter": "python",
   "pygments_lexer": "ipython3",
   "version": "3.8.2"
  }
 },
 "nbformat": 4,
 "nbformat_minor": 4
}
