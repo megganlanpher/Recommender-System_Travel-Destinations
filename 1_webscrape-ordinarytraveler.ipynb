{
 "cells": [
  {
   "cell_type": "code",
   "execution_count": 1,
   "metadata": {},
   "outputs": [],
   "source": [
    "import pandas as pd\n",
    "import requests\n",
    "import json\n",
    "import logging\n",
    "from bs4 import BeautifulSoup\n",
    "import time"
   ]
  },
  {
   "cell_type": "code",
   "execution_count": 2,
   "metadata": {},
   "outputs": [
    {
     "name": "stdout",
     "output_type": "stream",
     "text": [
      "['France', 'United States', 'Spain', 'China', 'Italy', 'United Kingdom', 'Germany', 'Mexico', 'Thailand', 'Turkey', 'Austria', 'Malaysia', 'Hong Kong', 'Greece', 'Russia', 'Japan', 'Canada', 'Portugal', 'Saudi Arabia', 'Poland']\n"
     ]
    }
   ],
   "source": [
    "# GET TOP TOURISM COUNTRIES\n",
    "df_tourism = pd.read_csv('./data/most_traveled_countries.csv')\n",
    "# SOURCE: http://worldpopulationreview.com/countries/most-visited-countries/\n",
    "# df_tourism.head()\n",
    "\n",
    "top20 = list(df_tourism.sort_values(by='touristArrivals', ascending=False)['name'][:20])\n",
    "print(top20)"
   ]
  },
  {
   "cell_type": "code",
   "execution_count": 3,
   "metadata": {},
   "outputs": [],
   "source": [
    "# GET COUNTRIES\n",
    "country_names = [c_name for c_name in pd.read_csv('./data/country_names.csv')['name']]\n",
    "# SOURCES: http://worldpopulationreview.com/countries/most-visited-countries/\n",
    "    # & https://www.travel-advisory.info/api\n"
   ]
  },
  {
   "cell_type": "code",
   "execution_count": 4,
   "metadata": {},
   "outputs": [
    {
     "data": {
      "text/plain": [
       "178"
      ]
     },
     "execution_count": 4,
     "metadata": {},
     "output_type": "execute_result"
    }
   ],
   "source": [
    "len(country_names)"
   ]
  },
  {
   "cell_type": "code",
   "execution_count": 5,
   "metadata": {},
   "outputs": [
    {
     "name": "stdout",
     "output_type": "stream",
     "text": [
      "Shape of dataframe: (93, 3)\n"
     ]
    },
    {
     "data": {
      "text/html": [
       "<div>\n",
       "<style scoped>\n",
       "    .dataframe tbody tr th:only-of-type {\n",
       "        vertical-align: middle;\n",
       "    }\n",
       "\n",
       "    .dataframe tbody tr th {\n",
       "        vertical-align: top;\n",
       "    }\n",
       "\n",
       "    .dataframe thead th {\n",
       "        text-align: right;\n",
       "    }\n",
       "</style>\n",
       "<table border=\"1\" class=\"dataframe\">\n",
       "  <thead>\n",
       "    <tr style=\"text-align: right;\">\n",
       "      <th></th>\n",
       "      <th>href</th>\n",
       "      <th>title</th>\n",
       "      <th>country</th>\n",
       "    </tr>\n",
       "  </thead>\n",
       "  <tbody>\n",
       "    <tr>\n",
       "      <th>0</th>\n",
       "      <td>https://ordinarytraveler.com/chasing-waves-in-...</td>\n",
       "      <td>Budget Tips for Taking a Surf Trip Along The E...</td>\n",
       "      <td>Australia</td>\n",
       "    </tr>\n",
       "    <tr>\n",
       "      <th>1</th>\n",
       "      <td>https://ordinarytraveler.com/top-things-to-do-...</td>\n",
       "      <td>10 Best Things To Do In Aruba</td>\n",
       "      <td>Aruba</td>\n",
       "    </tr>\n",
       "    <tr>\n",
       "      <th>2</th>\n",
       "      <td>https://ordinarytraveler.com/where-to-stay-aru...</td>\n",
       "      <td>Pristine Beaches and Warm Hospitality at Aruba...</td>\n",
       "      <td>Aruba</td>\n",
       "    </tr>\n",
       "    <tr>\n",
       "      <th>3</th>\n",
       "      <td>https://ordinarytraveler.com/homemade-tsatsiki...</td>\n",
       "      <td>Easy Homemade Tzatziki Sauce Recipe</td>\n",
       "      <td>Belgium</td>\n",
       "    </tr>\n",
       "    <tr>\n",
       "      <th>4</th>\n",
       "      <td>https://ordinarytraveler.com/antwerp-belgium-t...</td>\n",
       "      <td>The Best Things To Do In Antwerp, Belgium</td>\n",
       "      <td>Belgium</td>\n",
       "    </tr>\n",
       "  </tbody>\n",
       "</table>\n",
       "</div>"
      ],
      "text/plain": [
       "                                                href  \\\n",
       "0  https://ordinarytraveler.com/chasing-waves-in-...   \n",
       "1  https://ordinarytraveler.com/top-things-to-do-...   \n",
       "2  https://ordinarytraveler.com/where-to-stay-aru...   \n",
       "3  https://ordinarytraveler.com/homemade-tsatsiki...   \n",
       "4  https://ordinarytraveler.com/antwerp-belgium-t...   \n",
       "\n",
       "                                               title    country  \n",
       "0  Budget Tips for Taking a Surf Trip Along The E...  Australia  \n",
       "1                      10 Best Things To Do In Aruba      Aruba  \n",
       "2  Pristine Beaches and Warm Hospitality at Aruba...      Aruba  \n",
       "3                Easy Homemade Tzatziki Sauce Recipe    Belgium  \n",
       "4          The Best Things To Do In Antwerp, Belgium    Belgium  "
      ]
     },
     "execution_count": 5,
     "metadata": {},
     "output_type": "execute_result"
    }
   ],
   "source": [
    "# GET ALL URLS FOR 20 COUNTRIES\n",
    "articles = []\n",
    "for country in country_names:\n",
    "#     print(f'Searching {country}...')\n",
    "#     for n in range(1, 10):\n",
    "    try:\n",
    "        url_base = f'https://ordinarytraveler.com/category/{country}'\n",
    "        res_ = requests.get(url_base)\n",
    "        soup_ = BeautifulSoup(res_.content, 'lxml')\n",
    "        time.sleep(1)\n",
    "\n",
    "        for link in soup_.find_all(attrs={'class': 'entry-title-link'}):\n",
    "            article = {}\n",
    "            article['href'] = link.attrs['href']\n",
    "            article['title'] = link.text.strip()\n",
    "            article['country'] = country\n",
    "            articles.append(article)\n",
    "    except:\n",
    "        print(f'Error with {country}.')\n",
    "\n",
    "df = pd.DataFrame(articles)\n",
    "# df.to_csv('./data/all_articles.csv')\n",
    "print('Shape of dataframe:', df.shape)\n",
    "df.head()"
   ]
  },
  {
   "cell_type": "code",
   "execution_count": 6,
   "metadata": {},
   "outputs": [],
   "source": [
    "content_filed = []\n",
    "for url in df['href']:\n",
    "    res_post = requests.get(url)\n",
    "    soup_post = BeautifulSoup(res_post.content, 'lxml')\n",
    "\n",
    "    paragraphs = soup_post.find_all(attrs={'class': 'entry-content'})\n",
    "\n",
    "    text = ' '.join([paragraph.text.replace('\\n', '') for paragraph in paragraphs])\n",
    "    content_filed.append(text)\n",
    "    \n",
    "    time.sleep(1)\n",
    "df['text'] = content_filed"
   ]
  },
  {
   "cell_type": "code",
   "execution_count": 7,
   "metadata": {},
   "outputs": [
    {
     "data": {
      "text/html": [
       "<div>\n",
       "<style scoped>\n",
       "    .dataframe tbody tr th:only-of-type {\n",
       "        vertical-align: middle;\n",
       "    }\n",
       "\n",
       "    .dataframe tbody tr th {\n",
       "        vertical-align: top;\n",
       "    }\n",
       "\n",
       "    .dataframe thead th {\n",
       "        text-align: right;\n",
       "    }\n",
       "</style>\n",
       "<table border=\"1\" class=\"dataframe\">\n",
       "  <thead>\n",
       "    <tr style=\"text-align: right;\">\n",
       "      <th></th>\n",
       "      <th>href</th>\n",
       "      <th>title</th>\n",
       "      <th>country</th>\n",
       "      <th>text</th>\n",
       "    </tr>\n",
       "  </thead>\n",
       "  <tbody>\n",
       "    <tr>\n",
       "      <th>88</th>\n",
       "      <td>https://ordinarytraveler.com/an-island-fit-for...</td>\n",
       "      <td>Koh Phangan – It’s More Than Just a Party Island</td>\n",
       "      <td>Thailand</td>\n",
       "      <td>Koh Phangan has been a popular destination thr...</td>\n",
       "    </tr>\n",
       "    <tr>\n",
       "      <th>89</th>\n",
       "      <td>https://ordinarytraveler.com/head-highs-banana...</td>\n",
       "      <td>Head Highs, Banana Pancakes &amp; Gorgeous Islands...</td>\n",
       "      <td>Thailand</td>\n",
       "      <td>Since traveling through Australia felt like we...</td>\n",
       "    </tr>\n",
       "    <tr>\n",
       "      <th>90</th>\n",
       "      <td>https://ordinarytraveler.com/the-kiteboarding-...</td>\n",
       "      <td>Mui Ne Travel Guide: The Kiteboarding Mecca of...</td>\n",
       "      <td>Vietnam</td>\n",
       "      <td>This Mui Ne travel guide covers all of the ess...</td>\n",
       "    </tr>\n",
       "    <tr>\n",
       "      <th>91</th>\n",
       "      <td>https://ordinarytraveler.com/hoi-an-vietnam</td>\n",
       "      <td>Hoi An, Vietnam Travel Guide</td>\n",
       "      <td>Vietnam</td>\n",
       "      <td>Hoi An, Vietnam Travel GuideHoi An is a place...</td>\n",
       "    </tr>\n",
       "    <tr>\n",
       "      <th>92</th>\n",
       "      <td>https://ordinarytraveler.com/three-million-mot...</td>\n",
       "      <td>Northern Vietnam Travel Guide – Hanoi, Ha Long...</td>\n",
       "      <td>Vietnam</td>\n",
       "      <td>Our Northern Vietnam Travel Guide provides tip...</td>\n",
       "    </tr>\n",
       "  </tbody>\n",
       "</table>\n",
       "</div>"
      ],
      "text/plain": [
       "                                                 href  \\\n",
       "88  https://ordinarytraveler.com/an-island-fit-for...   \n",
       "89  https://ordinarytraveler.com/head-highs-banana...   \n",
       "90  https://ordinarytraveler.com/the-kiteboarding-...   \n",
       "91        https://ordinarytraveler.com/hoi-an-vietnam   \n",
       "92  https://ordinarytraveler.com/three-million-mot...   \n",
       "\n",
       "                                                title   country  \\\n",
       "88   Koh Phangan – It’s More Than Just a Party Island  Thailand   \n",
       "89  Head Highs, Banana Pancakes & Gorgeous Islands...  Thailand   \n",
       "90  Mui Ne Travel Guide: The Kiteboarding Mecca of...   Vietnam   \n",
       "91                       Hoi An, Vietnam Travel Guide   Vietnam   \n",
       "92  Northern Vietnam Travel Guide – Hanoi, Ha Long...   Vietnam   \n",
       "\n",
       "                                                 text  \n",
       "88  Koh Phangan has been a popular destination thr...  \n",
       "89  Since traveling through Australia felt like we...  \n",
       "90  This Mui Ne travel guide covers all of the ess...  \n",
       "91   Hoi An, Vietnam Travel GuideHoi An is a place...  \n",
       "92  Our Northern Vietnam Travel Guide provides tip...  "
      ]
     },
     "execution_count": 7,
     "metadata": {},
     "output_type": "execute_result"
    }
   ],
   "source": [
    "df.tail()"
   ]
  },
  {
   "cell_type": "code",
   "execution_count": 8,
   "metadata": {},
   "outputs": [],
   "source": [
    "df.to_csv('./data/articles_ordinarytraveler.csv', index=False)"
   ]
  }
 ],
 "metadata": {
  "kernelspec": {
   "display_name": "Python 3",
   "language": "python",
   "name": "python3"
  },
  "language_info": {
   "codemirror_mode": {
    "name": "ipython",
    "version": 3
   },
   "file_extension": ".py",
   "mimetype": "text/x-python",
   "name": "python",
   "nbconvert_exporter": "python",
   "pygments_lexer": "ipython3",
   "version": "3.8.2"
  }
 },
 "nbformat": 4,
 "nbformat_minor": 4
}
