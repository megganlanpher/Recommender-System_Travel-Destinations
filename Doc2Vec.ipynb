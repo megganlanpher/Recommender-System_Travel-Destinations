{
 "cells": [
  {
   "cell_type": "code",
   "execution_count": 3,
   "metadata": {},
   "outputs": [],
   "source": [
    "import pandas as pd\n",
    "import numpy as np\n",
    "import matplotlib.pyplot as plt\n",
    "from pandas.plotting import table\n",
    "\n",
    "import nltk\n",
    "from nltk.stem import WordNetLemmatizer\n",
    "from nltk.tokenize import RegexpTokenizer\n",
    "\n",
    "from gensim.models import Doc2Vec\n",
    "from gensim.models.doc2vec import TaggedDocument\n",
    "from multiprocessing import cpu_count\n",
    "\n",
    "from sklearn.feature_extraction.text import CountVectorizer, TfidfVectorizer, ENGLISH_STOP_WORDS\n",
    "from sklearn.model_selection import train_test_split \n"
   ]
  },
  {
   "cell_type": "markdown",
   "metadata": {},
   "source": [
    "# Preprocessing"
   ]
  },
  {
   "cell_type": "code",
   "execution_count": 4,
   "metadata": {},
   "outputs": [
    {
     "name": "stdout",
     "output_type": "stream",
     "text": [
      "# of blog articles: 2498\n",
      "# of subreddit posts: 31568\n",
      "\n",
      "# of distinct countries in the blog articles: 129\n",
      "\n",
      "# of countries with at least 5 articles and posts: 157\n",
      "# of resulting articles and posts: 34012\n"
     ]
    }
   ],
   "source": [
    "# BLOG ARTICLES DATA\n",
    "\n",
    "df_filed = pd.read_csv('./data/files_all_articles.csv') #Fathom \n",
    "df_A_theblondeabroad = pd.read_csv('./data/articles_theblondeabroad.csv')\n",
    "df_A_amateurtraveler = pd.read_csv('./data/articles_amateurtraveler.csv')\n",
    "df_A_bemytravelmuse = pd.read_csv('./data/articles_bemytravelmuse.csv')\n",
    "df_A_nerdnomads = pd.read_csv('./data/articles_nerdnomads.csv')\n",
    "df_A_ordinarytraveler = pd.read_csv('./data/articles_ordinarytraveler.csv')\n",
    "\n",
    "# Fathom data was saved without ignoring the index ...\n",
    "df_filed.drop(columns=['Unnamed: 0'], inplace=True)\n",
    "\n",
    "# Combined Web-Scraped Blog Articles\n",
    "df_A_ALL_filed = [df_filed, df_A_theblondeabroad, df_A_amateurtraveler,\n",
    "          df_A_bemytravelmuse, df_A_nerdnomads, df_A_ordinarytraveler]\n",
    "\n",
    "df_blogs = pd.concat(df_A_ALL_filed, ignore_index=True)\n",
    "df_blogs['all_words'] = df_blogs['title'] + df_blogs['text']\n",
    "\n",
    "\n",
    "# SUBREDDIT POSTS DATA\n",
    "\n",
    "df_reddit = pd.read_csv('./data/subreddits.csv')\n",
    "\n",
    "print('# of blog articles:', df_blogs.shape[0])\n",
    "print('# of subreddit posts:', df_reddit.shape[0])\n",
    "print()\n",
    "print('# of distinct countries in the blog articles:',len(df_blogs['country'].value_counts()))\n",
    "print()\n",
    "\n",
    "# COMBINE DATAFRAMES TO INCLUDE ALL BLOG ARTICLES & SUBREDDIT POSTS\n",
    "df_combined = pd.concat([df_blogs, df_reddit], ignore_index=True)\n",
    "\n",
    "\n",
    "min_length = 5    # Minimum # of articles & posts per country\n",
    "\n",
    "# COUNTRIES WITH AT LEAST THE MIN_LENGTH # of ARTICLES FILED & SEARCHED POSTS\n",
    "countries = [i for i in df_combined['country'].value_counts()[df_combined['country'].value_counts() >= min_length].index]\n",
    "print(f'# of countries with at least {min_length} articles and posts:',len(countries))\n",
    "\n",
    "# DF FILTERED TO COUNTRIES MEETING MINIMUM CRITERIA\n",
    "df = df_combined[df_combined['country'].isin(countries)]\n",
    "print('# of resulting articles and posts:',df.shape[0])\n",
    "\n",
    "df.to_csv('./data/final_df.csv', index=False)"
   ]
  },
  {
   "cell_type": "code",
   "execution_count": 7,
   "metadata": {},
   "outputs": [],
   "source": [
    "# TRAIN TEST SPLIT TITLE & BODY TEXT WITH LABELED COUNTRY\n",
    "X = df['all_words']\n",
    "y = df['country']\n",
    "\n",
    "X_train, X_test, y_train, y_test = train_test_split(X, y, test_size=.05, stratify=y, random_state=42)"
   ]
  },
  {
   "cell_type": "code",
   "execution_count": 8,
   "metadata": {},
   "outputs": [],
   "source": [
    "# PREPARE TEXT TO FEED INTO MODEL\n",
    "\n",
    "def text_to_words(text, stops = set(ENGLISH_STOP_WORDS), lemmatize=True):\n",
    "    tokenizer = RegexpTokenizer(r'\\w+')\n",
    "    lemmatizer = WordNetLemmatizer()\n",
    "    \n",
    "    tokens = tokenizer.tokenize(text)           # identifies words in the body of text\n",
    "    tokens_lower = [t.lower() for t in tokens]     # lowercase each word\n",
    "    if lemmatize==True:\n",
    "        tokens_lem = [lemmatizer.lemmatize(i) for i in tokens_lower]    # identifies root of each word\n",
    "    meaningful_words = [w for w in tokens_lem if not w in stops]    # Remove stopwords\n",
    "    \n",
    "    return(\" \".join(meaningful_words))    # Join the words back into one string separated by spaces\n",
    "\n",
    "\n",
    "words_train_ls = [text_to_words(a) for a in X_train]\n",
    "tagged_data = [TaggedDocument(words=words_train_ls, tags=list(y_train))]\n",
    "\n",
    "words_testls = [text_to_words(b) for b in X_test]\n",
    "tagged_testdata = [TaggedDocument(words=words_testls, tags=list(y_test))]"
   ]
  },
  {
   "cell_type": "code",
   "execution_count": 9,
   "metadata": {},
   "outputs": [],
   "source": [
    "\n",
    "# A RegexpTokenizer splits a string into substrings using regular expressions.\n",
    "# RegexpTokenizer(r'\\w+') \n",
    "    # identifies words, including contraction words\n",
    "# RegexpTokenizer('\\w+|\\$[\\d\\.]+|\\S+') \n",
    "    # splits tokens up by spaces or by periods that are not attached to a digit.\n",
    "# RegexpTokenizer('\\s+', gaps=True) \n",
    "    # will identify the spaces. \n",
    "    # By setting gaps = True, we're grabbing everything else: thus, we're splitting our tokens up by spaces.\n",
    "# RegexpTokenizer('[A-Z]\\w+')    \n",
    "    # returns only words that begin with a capital letter.\n",
    "\n"
   ]
  },
  {
   "cell_type": "markdown",
   "metadata": {},
   "source": [
    "## Words per Post"
   ]
  },
  {
   "cell_type": "code",
   "execution_count": 10,
   "metadata": {},
   "outputs": [],
   "source": [
    "# COUNT VECTORIZER #\n",
    "stops = list(ENGLISH_STOP_WORDS) + ['like']\n",
    "\n",
    "cv = CountVectorizer(min_df=10, stop_words=stops)\n",
    "\n",
    "vect = cv.fit_transform(df['all_words'])\n",
    "\n",
    "df_vect = pd.DataFrame(vect.todense(), columns=cv.get_feature_names())\n",
    "\n",
    "top_words = list(df_vect.sum().sort_values().tail(20).index)\n",
    "\n",
    "# df_vect.sum().sort_values().tail(20).plot.barh();"
   ]
  },
  {
   "cell_type": "code",
   "execution_count": 11,
   "metadata": {},
   "outputs": [],
   "source": [
    "# TFIDF #\n",
    "tf = TfidfVectorizer(min_df=10, stop_words=ENGLISH_STOP_WORDS)\n",
    "tfvect = tf.fit_transform(df['all_words'])\n",
    "\n",
    "df_tfvect = pd.DataFrame(tfvect.todense(), columns=tf.get_feature_names())\n",
    "# df_tfvect.sum().sort_values().tail(20).plot.barh();\n",
    "\n",
    "tf_top_words = list(df_tfvect.sum().sort_values().tail(20).index)"
   ]
  },
  {
   "cell_type": "markdown",
   "metadata": {},
   "source": [
    "## Doc2Vec"
   ]
  },
  {
   "cell_type": "code",
   "execution_count": 12,
   "metadata": {},
   "outputs": [
    {
     "name": "stderr",
     "output_type": "stream",
     "text": [
      "/Library/Frameworks/Python.framework/Versions/3.8/lib/python3.8/site-packages/gensim/models/doc2vec.py:570: UserWarning: The parameter `iter` is deprecated, will be removed in 4.0.0, use `epochs` instead.\n",
      "  warnings.warn(\"The parameter `iter` is deprecated, will be removed in 4.0.0, use `epochs` instead.\")\n",
      "/Library/Frameworks/Python.framework/Versions/3.8/lib/python3.8/site-packages/gensim/models/doc2vec.py:574: UserWarning: The parameter `size` is deprecated, will be removed in 4.0.0, use `vector_size` instead.\n",
      "  warnings.warn(\"The parameter `size` is deprecated, will be removed in 4.0.0, use `vector_size` instead.\")\n"
     ]
    }
   ],
   "source": [
    "# TRAIN MODEL\n",
    "\n",
    "# Doc2Vec parameters\n",
    "\n",
    "vector_size = 150    # dimensions of word vectors\n",
    "window_size = 8      # How many \"context words\" - The maximum distance between the current and predicted words\n",
    "min_count = 5        # Ignores words below this threshold frequency\n",
    "sampling_threshold = 1e-5    # The threshold for configuring which higher-frequency words are \n",
    "                                                  # randomly downsampled, useful range is (0, 1e-5).\n",
    "negative_size = 5\n",
    "train_epoch = 50\n",
    "dm = 0 #0 = dbow; 1 = dmpv\n",
    "worker_count = cpu_count() - 1    # Number of \"worker threads\" to use (parallelizes process)\n",
    "\n",
    "\n",
    "model = Doc2Vec(tagged_data,    # corpus of data\n",
    "                  \n",
    "                  size=vector_size,\n",
    "                  window=window_size,\n",
    "                  min_count=min_count,\n",
    "                  sample=sampling_threshold,\n",
    "                  workers=worker_count,\n",
    "                  \n",
    "                  hs=0,    # If 1, hierarchical softmax will be used for model training.\n",
    "                              # If set to 0, and `negative` is non-zero, negative sampling will be used.\n",
    "                  \n",
    "                  dm=dm,    # Defines the training algorithm. If `dm=1`, 'distributed memory' (PV-DM) is used.\n",
    "                              # Otherwise, `distributed bag of words` (PV-DBOW) is employed.\n",
    "                  \n",
    "                  negative=negative_size,  # If > 0, negative sampling will be used, the int for negative \n",
    "                                             # specifies how many \"noise words\" should be drawn \n",
    "                                             # (usually between 5-20). If set to 0, no negative sampling is used. \n",
    "                  \n",
    "                  dbow_words=1,  # If set to 1 trains word-vectors (in skip-gram fashion) simultaneous with DBOW\n",
    "                                      # doc-vector training; If 0, only trains doc-vectors (faster). \n",
    "                  \n",
    "                  dm_concat=1,    # If 1, use concatenation of context vectors rather than sum/average;\n",
    "                                 # Note concatenation results in a much-larger model, as the input is no longer\n",
    "                                 # the size of one (sampled or arithmetically combined) word vector, \n",
    "                                 # but the size of the tag(s) and all words in the context strung together.\n",
    "                  \n",
    "                  pretrained_emb=None,    \n",
    "                  iter=train_epoch)    \n",
    "\n",
    "# Save model\n",
    "model.save('d2v_model.bin')\n",
    "\n",
    "# Code adapted from https://github.com/eellak/gsoc2018-3gm/wiki/Document-Embeddings-with-Doc2Vec"
   ]
  },
  {
   "cell_type": "code",
   "execution_count": 13,
   "metadata": {},
   "outputs": [
    {
     "name": "stdout",
     "output_type": "stream",
     "text": [
      "Actual Country: Portugal\n",
      "Similar to Article Vector: [('Australia', 0.012205976992845535), ('Thailand', 0.011617237702012062), ('Indonesia', 0.0102264154702425), ('France', 0.009734464809298515), ('Vietnam', 0.009404250420629978), ('Japan', 0.008210856467485428), ('Greece', 0.007611691951751709), ('Portugal', 0.006830520462244749), ('New Zealand', 0.006535639520734549), ('Poland', 0.00627489946782589)]\n",
      "\n",
      "Similar to the Country Label: [('Ireland', 0.9994216561317444), ('Switzerland', 0.998757004737854), ('Indonesia', 0.9983217716217041), ('Greece', 0.9981710314750671), ('Cambodia', 0.9971235394477844), ('Peru', 0.9962897896766663), ('Singapore', 0.9958539605140686), ('Colombia', 0.993141770362854), ('China', 0.9915820360183716), ('Spain', 0.9909965991973877)]\n"
     ]
    }
   ],
   "source": [
    "model= Doc2Vec.load(\"d2v_model.bin\")\n",
    "\n",
    "print(\"Actual Country:\", tagged_testdata[0][1][0])\n",
    "\n",
    "v1 = model.infer_vector([w for w in tagged_testdata[0][0][0]])\n",
    "\n",
    "print('Similar to Article Vector:', model.docvecs.most_similar([v1]))\n",
    "print()\n",
    "print('Similar to the Country Label:', model.docvecs.most_similar(tagged_testdata[0][1][0]))"
   ]
  },
  {
   "cell_type": "code",
   "execution_count": 14,
   "metadata": {},
   "outputs": [
    {
     "data": {
      "text/plain": [
       "1701"
      ]
     },
     "execution_count": 14,
     "metadata": {},
     "output_type": "execute_result"
    }
   ],
   "source": [
    "len(tagged_testdata[0][1])"
   ]
  },
  {
   "cell_type": "code",
   "execution_count": 15,
   "metadata": {},
   "outputs": [],
   "source": [
    "model= Doc2Vec.load(\"d2v_model.bin\")\n",
    "# preds = []\n",
    "# for doc in range(len(y_test)):\n",
    "#     for n in range(10):\n",
    "#         prediction = {}\n",
    "#         prediction['actual_country'] = tagged_testdata[0][1][n]\n",
    "\n",
    "#         v = model.infer_vector([w for w in tagged_testdata[0][0][n]])\n",
    "#         prediction['similar_vec'] = model.docvecs.most_similar([v])\n",
    "#         prediction['similar_country'] = model.docvecs.most_similar(tagged_testdata[0][1][n])\n",
    "#         preds.append(prediction)\n",
    "        \n",
    "# df_test_preds = pd.DataFrame(preds)\n",
    "# df_test_preds.head()"
   ]
  },
  {
   "cell_type": "code",
   "execution_count": 16,
   "metadata": {},
   "outputs": [],
   "source": [
    "# QUANTIFY HOW MUCH THE PREDICTIONS VARY\n",
    "\n",
    "def how_similar_recomm(countries, vector=False):\n",
    "    range_similar_countries = 30\n",
    "    all_preds = []\n",
    "    similarity_scores = []\n",
    "    for c in countries:\n",
    "        for n in range(range_similar_countries):\n",
    "            prediction = {}\n",
    "            prediction['actual_country'] = c\n",
    "            sim_country, score = model.docvecs.most_similar(c, topn=range_similar_countries)[n]\n",
    "            prediction['similar_country'] = sim_country\n",
    "            prediction['score'] = score\n",
    "            similarity_scores.append(score)\n",
    "            all_preds.append(prediction)\n",
    "            \n",
    "    if vector!= False:\n",
    "        for v in vector:\n",
    "            for n in range(range_similar_countries):\n",
    "                prediction = {}\n",
    "                prediction['actual_country'] = c\n",
    "                sim_country, score = model.docvecs.most_similar(v, topn=range_similar_countries)[n]\n",
    "                prediction['similar_v_country'] = sim_country\n",
    "                prediction['score_v'] = score\n",
    "                similarity_scores.append(score)\n",
    "                all_preds.append(prediction)\n",
    "       \n",
    "    df_all_country_similarities = pd.DataFrame(all_preds)\n",
    "\n",
    "\n",
    "    scores = {}\n",
    "    scores['min_similarity'] = df_all_country_similarities.groupby(by=['actual_country'])['score'].min()\n",
    "    scores['max_similarity'] = df_all_country_similarities.groupby(by=['actual_country'])['score'].max() \n",
    "    if vector != False:\n",
    "        scores['min_v_similarity'] = df_all_country_similarities.groupby(by=['actual_country'])['score_v'].min()\n",
    "        scores['max_v_similarity'] = df_all_country_similarities.groupby(by=['actual_country'])['score_v'].max() \n",
    "        \n",
    "    df_scores = pd.DataFrame(scores)\n",
    "\n",
    "    df_scores['dissimilarity_scores'] = scores['max_similarity'] - scores['min_similarity']\n",
    "    if vector != False:\n",
    "        df_scores['dissimilarity_v_scores'] = scores['max_v_similarity'] - scores['min_v_similarity']\n",
    "\n",
    "\n",
    "    similarity_max = df_scores['max_similarity'].max()\n",
    "    similarity_max_mean = df_scores['max_similarity'].mean()\n",
    "    similarity_min = df_scores['min_similarity'].min()\n",
    "    similarity_min_mean = df_scores['min_similarity'].mean()\n",
    "    avg_dissimilarity = df_scores['dissimilarity_scores'].mean()\n",
    "    if vector != False:\n",
    "        similarity_v_max = df_scores['max_v_similarity'].max()\n",
    "        similarity_v_max_mean = df_scores['max_v_similarity'].mean()\n",
    "        similarity_v_min = df_scores['min_v_similarity'].min()\n",
    "        similarity_v_min_mean = df_scores['min_v_similarity'].mean()\n",
    "        avg_v_dissimilarity = df_scores['dissimilarity_v_scores'].mean()\n",
    "\n",
    "    max_c_similar_cnt = df_all_country_similarities['similar_country'].value_counts().max()\n",
    "    min_c_similar_cnt = df_all_country_similarities['similar_country'].value_counts().min()\n",
    "    mean_c_similar_cnt = df_all_country_similarities['similar_country'].value_counts().mean()\n",
    "    \n",
    "    if vector != False:\n",
    "        max_cv_similar_cnt = df_all_country_similarities['similar_v_country'].value_counts().max()\n",
    "        min_cv_similar_cnt = df_all_country_similarities['similar_v_country'].value_counts().min()\n",
    "        mean_cv_similar_cnt = df_all_country_similarities['similar_v_country'].value_counts().mean()\n",
    "\n",
    "    print('Maximum Similarity Score:', similarity_max)\n",
    "    print('Average Maximum Similarity Score:', similarity_max_mean)\n",
    "    print()\n",
    "    print('Minimum Similarity Score:', similarity_min)\n",
    "    print('Average Minimum Similarity Score:', similarity_min_mean)\n",
    "    print()\n",
    "    print('Average Dissimilarity of Top Predictions:', avg_dissimilarity)\n",
    "    print()\n",
    "    print('Average Count of Countries in Top Predictions:', mean_c_similar_cnt)\n",
    "    print('Maximum Count of Countries in Top Predictions:', max_c_similar_cnt)\n",
    "    print('Average Count of Countries in Top Predictions:', min_c_similar_cnt)\n",
    "    print()\n",
    "\n",
    "    if vector != False:\n",
    "        print('Maximum Vector Similarity Score:', similarity_v_max)\n",
    "        print('Average Maximum Vector Similarity Score:', similarity_v_max_mean)\n",
    "        print()\n",
    "        print('Minimum Vector Similarity Score:', similarity_v_min)\n",
    "        print('Average Minimum Vector Similarity Score:', similarity_v_min_mean)\n",
    "        print()\n",
    "        print('Average Dissimilarity of Top Vector Predictions:', avg_v_dissimilarity)\n",
    "        print()\n",
    "        print('Average Count of Countries in Top Vector Predictions:', mean_cv_similar_cnt)\n",
    "        print('Maximum Count of Countries in Top Vector Predictions:', max_cv_similar_cnt)\n",
    "        print('Average Count of Countries in Top Vector Predictions:', min_cv_similar_cnt)\n",
    "        print()\n",
    "\n",
    "    return df_scores"
   ]
  },
  {
   "cell_type": "code",
   "execution_count": 17,
   "metadata": {},
   "outputs": [
    {
     "name": "stdout",
     "output_type": "stream",
     "text": [
      "# ALL COUNTRIES #\n",
      "Maximum Similarity Score: 0.99964439868927\n",
      "Average Maximum Similarity Score: 0.998448231417662\n",
      "\n",
      "Minimum Similarity Score: 0.858163595199585\n",
      "Average Minimum Similarity Score: 0.9612176167737146\n",
      "\n",
      "Average Dissimilarity of Top Predictions: 0.037230614643947335\n",
      "\n",
      "Average Count of Countries in Top Predictions: 30.0\n",
      "Maximum Count of Countries in Top Predictions: 46\n",
      "Average Count of Countries in Top Predictions: 17\n",
      "\n",
      "\n",
      "# TEST COUNTRIES #\n",
      "Maximum Similarity Score: 0.99964439868927\n",
      "Average Maximum Similarity Score: 0.9984953358565292\n",
      "\n",
      "Minimum Similarity Score: 0.858163595199585\n",
      "Average Minimum Similarity Score: 0.9653488315948068\n",
      "\n",
      "Average Dissimilarity of Top Predictions: 0.033146504261722304\n",
      "\n",
      "Average Count of Countries in Top Predictions: 325.03184713375794\n",
      "Maximum Count of Countries in Top Predictions: 1301\n",
      "Average Count of Countries in Top Predictions: 6\n",
      "\n",
      "\n"
     ]
    }
   ],
   "source": [
    "print('# ALL COUNTRIES #')\n",
    "how_similar_recomm(countries)\n",
    "print()\n",
    "print('# TEST COUNTRIES #')\n",
    "how_similar_recomm(countries=tagged_testdata[0][1]) #, vector=tagged_testdata[0][0])\n",
    "print()"
   ]
  },
  {
   "cell_type": "code",
   "execution_count": 18,
   "metadata": {},
   "outputs": [
    {
     "data": {
      "text/plain": [
       "India        0.033518\n",
       "Germany      0.032959\n",
       "Vietnam      0.031224\n",
       "Australia    0.030489\n",
       "Thailand     0.029754\n",
       "Canada       0.029490\n",
       "Italy        0.029460\n",
       "France       0.028549\n",
       "Japan        0.026638\n",
       "Mexico       0.025697\n",
       "Name: country, dtype: float64"
      ]
     },
     "execution_count": 18,
     "metadata": {},
     "output_type": "execute_result"
    }
   ],
   "source": [
    "# MODEL EVALUATION\n",
    "\n",
    "# BASELINE VALUES\n",
    "y.value_counts(normalize=True).head(10)\n"
   ]
  },
  {
   "cell_type": "code",
   "execution_count": 19,
   "metadata": {},
   "outputs": [
    {
     "data": {
      "text/plain": [
       "[('Ireland', 0.9994216561317444),\n",
       " ('Switzerland', 0.998757004737854),\n",
       " ('Indonesia', 0.9983217716217041),\n",
       " ('Greece', 0.9981710314750671),\n",
       " ('Cambodia', 0.9971235394477844),\n",
       " ('Peru', 0.9962897896766663),\n",
       " ('Singapore', 0.9958539605140686),\n",
       " ('Colombia', 0.993141770362854),\n",
       " ('China', 0.9915820360183716),\n",
       " ('Spain', 0.9909965991973877)]"
      ]
     },
     "execution_count": 19,
     "metadata": {},
     "output_type": "execute_result"
    }
   ],
   "source": [
    "model.docvecs.most_similar(tagged_testdata[0][1][0])"
   ]
  },
  {
   "cell_type": "code",
   "execution_count": 20,
   "metadata": {},
   "outputs": [
    {
     "data": {
      "text/plain": [
       "[('Australia', 0.012205976992845535),\n",
       " ('Thailand', 0.011617237702012062),\n",
       " ('Indonesia', 0.0102264154702425),\n",
       " ('France', 0.009734464809298515),\n",
       " ('Vietnam', 0.009404250420629978),\n",
       " ('Japan', 0.008210856467485428),\n",
       " ('Greece', 0.007611691951751709),\n",
       " ('Portugal', 0.006830520462244749),\n",
       " ('New Zealand', 0.006535639520734549),\n",
       " ('Poland', 0.00627489946782589)]"
      ]
     },
     "execution_count": 20,
     "metadata": {},
     "output_type": "execute_result"
    }
   ],
   "source": [
    "model.docvecs.most_similar([model.infer_vector([w for w in tagged_testdata[0][0][0]])])"
   ]
  },
  {
   "cell_type": "code",
   "execution_count": 28,
   "metadata": {},
   "outputs": [
    {
     "data": {
      "image/png": "[encoded data removed]",
      "text/plain": [
       "<Figure size 432x288 with 1 Axes>"
      ]
     },
     "metadata": {
      "needs_background": "light"
     },
     "output_type": "display_data"
    }
   ],
   "source": [
    "# Get recommendations\n",
    "usa_recomm = model.docvecs.most_similar('United States')\n",
    "\n",
    "df_usa_recomm = pd.DataFrame(usa_recomm, columns=['Country', 'Similarity'])\n",
    "\n",
    "ax = plt.subplot(512, frame_on=False) # no visible frame\n",
    "ax.xaxis.set_visible(False)  # hide the x axis\n",
    "ax.yaxis.set_visible(False)  # hide the y axis\n",
    "\n",
    "table(ax, df_usa_recomm)  # where df is your data frame\n",
    "\n",
    "plt.savefig('./images/usa_recommendations_table.png')"
   ]
  },
  {
   "cell_type": "code",
   "execution_count": 22,
   "metadata": {},
   "outputs": [
    {
     "data": {
      "text/plain": [
       "[('Ecuador', 0.9973948001861572),\n",
       " ('Cuba', 0.9966560006141663),\n",
       " ('United States', 0.9962328672409058),\n",
       " ('South Africa', 0.9959067702293396),\n",
       " ('Israel', 0.9958263039588928),\n",
       " ('Laos', 0.9942963123321533),\n",
       " ('Sweden', 0.9942832589149475),\n",
       " ('Taiwan', 0.994129478931427),\n",
       " ('Morocco', 0.9936922788619995),\n",
       " ('Argentina', 0.993605375289917)]"
      ]
     },
     "execution_count": 22,
     "metadata": {},
     "output_type": "execute_result"
    }
   ],
   "source": [
    "# Get recommendations\n",
    "model.docvecs.most_similar('Russia')"
   ]
  },
  {
   "cell_type": "markdown",
   "metadata": {},
   "source": [
    "# Make Recommendations based on Facebook status messages"
   ]
  },
  {
   "cell_type": "code",
   "execution_count": 23,
   "metadata": {},
   "outputs": [],
   "source": [
    "# Source: Donald Trump's Facebook Statuses + Reaction Counts (as of 10_17_16, @minimaxir) - \n",
    "# . https://data.world/bgadoci/trumps-facebook-statuses\n",
    "\n",
    "df_fb = pd.read_csv('./data/DonaldTrump_facebook_statuses.csv')"
   ]
  },
  {
   "cell_type": "code",
   "execution_count": 25,
   "metadata": {},
   "outputs": [
    {
     "data": {
      "text/plain": [
       "[('Saudi Arabia', 0.17405492067337036),\n",
       " ('Ghana', 0.17097438871860504),\n",
       " ('Moldova', 0.16999314725399017),\n",
       " ('Botswana', 0.16942322254180908),\n",
       " ('Madagascar', 0.16935278475284576),\n",
       " ('Namibia', 0.16909722983837128),\n",
       " ('Venezuela', 0.16776232421398163),\n",
       " ('Bahrain', 0.16573859751224518),\n",
       " ('Mozambique', 0.165486678481102),\n",
       " ('Kuwait', 0.1652957648038864)]"
      ]
     },
     "execution_count": 25,
     "metadata": {},
     "output_type": "execute_result"
    }
   ],
   "source": [
    "# Filter dataframe to only posts from the year 2016\n",
    "df_fb['status_published']= pd.to_datetime(df_fb['status_published'])\n",
    "df_2016fb = df_fb[df_fb.status_published.dt.year == 2016].copy()\n",
    "\n",
    "# Aggregate and prepare status messages to feed into the model\n",
    "fb_posts = list(df_2016fb['status_message'])\n",
    "fb_text = ' '.join([str(p).strip() for p in fb_posts])\n",
    "\n",
    "# Convert words to paragraph vector\n",
    "fb_vec = model.infer_vector([str(w).strip() for w in fb_text])\n",
    "\n",
    "# Get recommendations\n",
    "fb_recomm = model.docvecs.most_similar([fb_vec], topn=50)\n",
    "\n",
    "df_fb_recomm = pd.DataFrame(fb_recomm, columns=['Country', 'Similarity'])\n",
    "\n",
    "ax = plt.subplot(512, frame_on=False) # no visible frame\n",
    "ax.xaxis.set_visible(False)  # hide the x axis\n",
    "ax.yaxis.set_visible(False)  # hide the y axis\n",
    "\n",
    "table(ax, df_fb_recomm[:10])  # where df is your data frame\n",
    "\n",
    "plt.savefig('./images/fb_recommendations_table.png')"
   ]
  },
  {
   "cell_type": "code",
   "execution_count": 31,
   "metadata": {},
   "outputs": [
    {
     "name": "stdout",
     "output_type": "stream",
     "text": [
      "4160\n"
     ]
    },
    {
     "data": {
      "text/html": [
       "<div>\n",
       "<style scoped>\n",
       "    .dataframe tbody tr th:only-of-type {\n",
       "        vertical-align: middle;\n",
       "    }\n",
       "\n",
       "    .dataframe tbody tr th {\n",
       "        vertical-align: top;\n",
       "    }\n",
       "\n",
       "    .dataframe thead th {\n",
       "        text-align: right;\n",
       "    }\n",
       "</style>\n",
       "<table border=\"1\" class=\"dataframe\">\n",
       "  <thead>\n",
       "    <tr style=\"text-align: right;\">\n",
       "      <th></th>\n",
       "      <th>status_id</th>\n",
       "      <th>status_message</th>\n",
       "      <th>link_name</th>\n",
       "      <th>status_type</th>\n",
       "      <th>status_link</th>\n",
       "      <th>status_published</th>\n",
       "      <th>num_reactions</th>\n",
       "      <th>num_comments</th>\n",
       "      <th>num_shares</th>\n",
       "      <th>num_likes</th>\n",
       "      <th>num_loves</th>\n",
       "      <th>num_wows</th>\n",
       "      <th>num_hahas</th>\n",
       "      <th>num_sads</th>\n",
       "      <th>num_angrys</th>\n",
       "    </tr>\n",
       "  </thead>\n",
       "  <tbody>\n",
       "    <tr>\n",
       "      <th>0</th>\n",
       "      <td>153080620724_10157915294545725</td>\n",
       "      <td>Beautiful evening in Wisconsin- THANK YOU for ...</td>\n",
       "      <td>Timeline Photos</td>\n",
       "      <td>photo</td>\n",
       "      <td>https://www.facebook.com/DonaldTrump/photos/a....</td>\n",
       "      <td>2016-10-17 20:56:51</td>\n",
       "      <td>6813</td>\n",
       "      <td>543</td>\n",
       "      <td>359</td>\n",
       "      <td>6178</td>\n",
       "      <td>572</td>\n",
       "      <td>39</td>\n",
       "      <td>17</td>\n",
       "      <td>0</td>\n",
       "      <td>7</td>\n",
       "    </tr>\n",
       "    <tr>\n",
       "      <th>1</th>\n",
       "      <td>153080620724_10157914483265725</td>\n",
       "      <td>The State Department's quid pro quo scheme pro...</td>\n",
       "      <td>NaN</td>\n",
       "      <td>video</td>\n",
       "      <td>https://www.facebook.com/DonaldTrump/videos/10...</td>\n",
       "      <td>2016-10-17 18:00:41</td>\n",
       "      <td>33768</td>\n",
       "      <td>3644</td>\n",
       "      <td>17653</td>\n",
       "      <td>26649</td>\n",
       "      <td>487</td>\n",
       "      <td>1155</td>\n",
       "      <td>75</td>\n",
       "      <td>191</td>\n",
       "      <td>5211</td>\n",
       "    </tr>\n",
       "    <tr>\n",
       "      <th>2</th>\n",
       "      <td>153080620724_10157913199155725</td>\n",
       "      <td>Crooked Hillary's State Department colluded wi...</td>\n",
       "      <td>NaN</td>\n",
       "      <td>video</td>\n",
       "      <td>https://www.facebook.com/DonaldTrump/videos/10...</td>\n",
       "      <td>2016-10-17 15:34:46</td>\n",
       "      <td>85627</td>\n",
       "      <td>8810</td>\n",
       "      <td>32594</td>\n",
       "      <td>73519</td>\n",
       "      <td>2943</td>\n",
       "      <td>1020</td>\n",
       "      <td>330</td>\n",
       "      <td>263</td>\n",
       "      <td>7552</td>\n",
       "    </tr>\n",
       "    <tr>\n",
       "      <th>3</th>\n",
       "      <td>153080620724_10157912962325725</td>\n",
       "      <td>JournoCash: Media gives $382,000 to Clinton, $...</td>\n",
       "      <td>JournoCash: Media gives $382,000 to Clinton, $...</td>\n",
       "      <td>link</td>\n",
       "      <td>http://www.washingtonexaminer.com/journocash-m...</td>\n",
       "      <td>2016-10-17 14:17:24</td>\n",
       "      <td>22696</td>\n",
       "      <td>3665</td>\n",
       "      <td>5082</td>\n",
       "      <td>14029</td>\n",
       "      <td>122</td>\n",
       "      <td>2091</td>\n",
       "      <td>241</td>\n",
       "      <td>286</td>\n",
       "      <td>5927</td>\n",
       "    </tr>\n",
       "    <tr>\n",
       "      <th>4</th>\n",
       "      <td>153080620724_10157912187170725</td>\n",
       "      <td>Exclusive: \"O'Keefe Video Sting Exposes 'Bird-...</td>\n",
       "      <td>O'Keefe Reveals 'Bird-Dogging' to Incite Viole...</td>\n",
       "      <td>link</td>\n",
       "      <td>http://www.breitbart.com/big-government/2016/1...</td>\n",
       "      <td>2016-10-17 12:03:19</td>\n",
       "      <td>40729</td>\n",
       "      <td>4905</td>\n",
       "      <td>17087</td>\n",
       "      <td>26472</td>\n",
       "      <td>178</td>\n",
       "      <td>2588</td>\n",
       "      <td>154</td>\n",
       "      <td>417</td>\n",
       "      <td>10922</td>\n",
       "    </tr>\n",
       "  </tbody>\n",
       "</table>\n",
       "</div>"
      ],
      "text/plain": [
       "                        status_id  \\\n",
       "0  153080620724_10157915294545725   \n",
       "1  153080620724_10157914483265725   \n",
       "2  153080620724_10157913199155725   \n",
       "3  153080620724_10157912962325725   \n",
       "4  153080620724_10157912187170725   \n",
       "\n",
       "                                      status_message  \\\n",
       "0  Beautiful evening in Wisconsin- THANK YOU for ...   \n",
       "1  The State Department's quid pro quo scheme pro...   \n",
       "2  Crooked Hillary's State Department colluded wi...   \n",
       "3  JournoCash: Media gives $382,000 to Clinton, $...   \n",
       "4  Exclusive: \"O'Keefe Video Sting Exposes 'Bird-...   \n",
       "\n",
       "                                           link_name status_type  \\\n",
       "0                                    Timeline Photos       photo   \n",
       "1                                                NaN       video   \n",
       "2                                                NaN       video   \n",
       "3  JournoCash: Media gives $382,000 to Clinton, $...        link   \n",
       "4  O'Keefe Reveals 'Bird-Dogging' to Incite Viole...        link   \n",
       "\n",
       "                                         status_link    status_published  \\\n",
       "0  https://www.facebook.com/DonaldTrump/photos/a.... 2016-10-17 20:56:51   \n",
       "1  https://www.facebook.com/DonaldTrump/videos/10... 2016-10-17 18:00:41   \n",
       "2  https://www.facebook.com/DonaldTrump/videos/10... 2016-10-17 15:34:46   \n",
       "3  http://www.washingtonexaminer.com/journocash-m... 2016-10-17 14:17:24   \n",
       "4  http://www.breitbart.com/big-government/2016/1... 2016-10-17 12:03:19   \n",
       "\n",
       "   num_reactions  num_comments  num_shares  num_likes  num_loves  num_wows  \\\n",
       "0           6813           543         359       6178        572        39   \n",
       "1          33768          3644       17653      26649        487      1155   \n",
       "2          85627          8810       32594      73519       2943      1020   \n",
       "3          22696          3665        5082      14029        122      2091   \n",
       "4          40729          4905       17087      26472        178      2588   \n",
       "\n",
       "   num_hahas  num_sads  num_angrys  \n",
       "0         17         0           7  \n",
       "1         75       191        5211  \n",
       "2        330       263        7552  \n",
       "3        241       286        5927  \n",
       "4        154       417       10922  "
      ]
     },
     "execution_count": 31,
     "metadata": {},
     "output_type": "execute_result"
    }
   ],
   "source": [
    "print(len(df_fb))\n",
    "df_fb.head()"
   ]
  },
  {
   "cell_type": "code",
   "execution_count": 45,
   "metadata": {},
   "outputs": [
    {
     "data": {
      "text/plain": [
       "2518"
      ]
     },
     "execution_count": 45,
     "metadata": {},
     "output_type": "execute_result"
    }
   ],
   "source": [
    "len(df_2016fb)"
   ]
  },
  {
   "cell_type": "code",
   "execution_count": 47,
   "metadata": {},
   "outputs": [
    {
     "name": "stdout",
     "output_type": "stream",
     "text": [
      "['Had a fun time last night ringing in the new year with my beautiful family. Best wishes to everyone for a great 2016!', Timestamp('2016-01-01 10:27:18')]\n"
     ]
    }
   ],
   "source": [
    "print([df_2016fb[m].iloc[2517] for m in ['status_message', 'status_published']])"
   ]
  },
  {
   "cell_type": "code",
   "execution_count": 44,
   "metadata": {},
   "outputs": [
    {
     "name": "stdout",
     "output_type": "stream",
     "text": [
      "['Beautiful evening in Wisconsin- THANK YOU for your incredible support tonight! Everyone get out on November 8th - and VOTE! LETS MAKE AMERICA GREAT AGAIN! -DJT', Timestamp('2016-10-17 20:56:51')]\n"
     ]
    }
   ],
   "source": [
    "print([df_2016fb[m].iloc[0] for m in ['status_message', 'status_published']])"
   ]
  },
  {
   "cell_type": "code",
   "execution_count": 27,
   "metadata": {},
   "outputs": [],
   "source": [
    "\n",
    "### OTHER EXPLORATORY SOURCES ###\n",
    "\n",
    "# DOC2VEC MODEL\n",
    "# ---\n",
    "# https://medium.com/@klintcho/doc2vec-tutorial-using-gensim-ab3ac03d3a1\n",
    "# ---\n",
    "# https://medium.com/@mishra.thedeepak/doc2vec-simple-implementation-example-df2afbbfbad5\n",
    "# ---\n",
    "# https://kite.com/python/docs/gensim.models.doc2vec\n",
    "# ---\n",
    "# https://towardsdatascience.com/understand-how-to-transfer-your-paragraph-to-vector-by-doc2vec-1e225ccf102\n",
    "# ---\n",
    "# https://towardsdatascience.com/evaluation-metrics-for-recommender-systems-df56c6611093"
   ]
  }
 ],
 "metadata": {
  "kernelspec": {
   "display_name": "Python 3",
   "language": "python",
   "name": "python3"
  },
  "language_info": {
   "codemirror_mode": {
    "name": "ipython",
    "version": 3
   },
   "file_extension": ".py",
   "mimetype": "text/x-python",
   "name": "python",
   "nbconvert_exporter": "python",
   "pygments_lexer": "ipython3",
   "version": "3.8.2"
  }
 },
 "nbformat": 4,
 "nbformat_minor": 4
}
