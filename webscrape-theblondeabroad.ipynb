{
 "cells": [
  {
   "cell_type": "code",
   "execution_count": 1,
   "metadata": {},
   "outputs": [],
   "source": [
    "import pandas as pd\n",
    "import requests\n",
    "import json\n",
    "import logging\n",
    "from bs4 import BeautifulSoup\n",
    "import time"
   ]
  },
  {
   "cell_type": "code",
   "execution_count": 2,
   "metadata": {},
   "outputs": [
    {
     "name": "stdout",
     "output_type": "stream",
     "text": [
      "['France', 'United States', 'Spain', 'China', 'Italy', 'United Kingdom', 'Germany', 'Mexico', 'Thailand', 'Turkey', 'Austria', 'Malaysia', 'Hong Kong', 'Greece', 'Russia', 'Japan', 'Canada', 'Portugal', 'Saudi Arabia', 'Poland']\n"
     ]
    }
   ],
   "source": [
    "# GET TOP TOURISM COUNTRIES\n",
    "df_tourism = pd.read_csv('./data/most_traveled_countries.csv')\n",
    "# SOURCE: http://worldpopulationreview.com/countries/most-visited-countries/\n",
    "# df_tourism.head()\n",
    "\n",
    "top20 = list(df_tourism.sort_values(by='touristArrivals', ascending=False)['name'][:20])\n",
    "print(top20)"
   ]
  },
  {
   "cell_type": "code",
   "execution_count": 3,
   "metadata": {},
   "outputs": [],
   "source": [
    "# GET COUNTRIES\n",
    "country_names = [c_name for c_name in pd.read_csv('./data/country_names.csv')['name']]\n",
    "# SOURCES: http://worldpopulationreview.com/countries/most-visited-countries/\n",
    "    # & https://www.travel-advisory.info/api\n"
   ]
  },
  {
   "cell_type": "code",
   "execution_count": 4,
   "metadata": {},
   "outputs": [
    {
     "data": {
      "text/plain": [
       "178"
      ]
     },
     "execution_count": 4,
     "metadata": {},
     "output_type": "execute_result"
    }
   ],
   "source": [
    "len(country_names)"
   ]
  },
  {
   "cell_type": "code",
   "execution_count": 5,
   "metadata": {},
   "outputs": [
    {
     "name": "stdout",
     "output_type": "stream",
     "text": [
      "Shape of dataframe: (536, 3)\n"
     ]
    },
    {
     "data": {
      "text/html": [
       "<div>\n",
       "<style scoped>\n",
       "    .dataframe tbody tr th:only-of-type {\n",
       "        vertical-align: middle;\n",
       "    }\n",
       "\n",
       "    .dataframe tbody tr th {\n",
       "        vertical-align: top;\n",
       "    }\n",
       "\n",
       "    .dataframe thead th {\n",
       "        text-align: right;\n",
       "    }\n",
       "</style>\n",
       "<table border=\"1\" class=\"dataframe\">\n",
       "  <thead>\n",
       "    <tr style=\"text-align: right;\">\n",
       "      <th></th>\n",
       "      <th>href</th>\n",
       "      <th>title</th>\n",
       "      <th>country</th>\n",
       "    </tr>\n",
       "  </thead>\n",
       "  <tbody>\n",
       "    <tr>\n",
       "      <th>0</th>\n",
       "      <td>https://theblondeabroad.com/best-time-to-trave...</td>\n",
       "      <td>The Best Time to Travel to Austria</td>\n",
       "      <td>Austria</td>\n",
       "    </tr>\n",
       "    <tr>\n",
       "      <th>1</th>\n",
       "      <td>https://theblondeabroad.com/20-photos-to-inspi...</td>\n",
       "      <td>20 Photos to Inspire You to Visit the Christma...</td>\n",
       "      <td>Austria</td>\n",
       "    </tr>\n",
       "    <tr>\n",
       "      <th>2</th>\n",
       "      <td>https://theblondeabroad.com/visiting-the-chris...</td>\n",
       "      <td>Visiting the Christmas Markets in Vienna</td>\n",
       "      <td>Austria</td>\n",
       "    </tr>\n",
       "    <tr>\n",
       "      <th>3</th>\n",
       "      <td>https://theblondeabroad.com/danube-christmas-m...</td>\n",
       "      <td>Danube Christmas Market River Cruise with Crys...</td>\n",
       "      <td>Austria</td>\n",
       "    </tr>\n",
       "    <tr>\n",
       "      <th>4</th>\n",
       "      <td>https://theblondeabroad.com/river-cruise-onboa...</td>\n",
       "      <td>River Cruise Onboard Crystal Cruises’ Mozart</td>\n",
       "      <td>Austria</td>\n",
       "    </tr>\n",
       "  </tbody>\n",
       "</table>\n",
       "</div>"
      ],
      "text/plain": [
       "                                                href  \\\n",
       "0  https://theblondeabroad.com/best-time-to-trave...   \n",
       "1  https://theblondeabroad.com/20-photos-to-inspi...   \n",
       "2  https://theblondeabroad.com/visiting-the-chris...   \n",
       "3  https://theblondeabroad.com/danube-christmas-m...   \n",
       "4  https://theblondeabroad.com/river-cruise-onboa...   \n",
       "\n",
       "                                               title  country  \n",
       "0                 The Best Time to Travel to Austria  Austria  \n",
       "1  20 Photos to Inspire You to Visit the Christma...  Austria  \n",
       "2           Visiting the Christmas Markets in Vienna  Austria  \n",
       "3  Danube Christmas Market River Cruise with Crys...  Austria  \n",
       "4       River Cruise Onboard Crystal Cruises’ Mozart  Austria  "
      ]
     },
     "execution_count": 5,
     "metadata": {},
     "output_type": "execute_result"
    }
   ],
   "source": [
    "# GET ALL URLS FOR 20 COUNTRIES\n",
    "articles = []\n",
    "for country in country_names:\n",
    "#     print(f'Searching {country}...')\n",
    "    for n in range(1, 10):\n",
    "        try:\n",
    "            url_base = f'https://theblondeabroad.com/category/{country}/page/{n}/'\n",
    "            res_ = requests.get(url_base)\n",
    "            soup_ = BeautifulSoup(res_.content, 'lxml')\n",
    "            time.sleep(1)\n",
    "\n",
    "            for link in soup_.find_all(attrs={'class': 'entry-title-link'}):\n",
    "                article = {}\n",
    "                article['href'] = link.attrs['href']\n",
    "                article['title'] = link.text.strip()\n",
    "                article['country'] = country\n",
    "                articles.append(article)\n",
    "        except:\n",
    "            print(f'Error with {country} at page {n}.')\n",
    "\n",
    "df = pd.DataFrame(articles)\n",
    "# df.to_csv('./data/all_articles.csv')\n",
    "print('Shape of dataframe:', df.shape)\n",
    "df.head()"
   ]
  },
  {
   "cell_type": "code",
   "execution_count": 6,
   "metadata": {},
   "outputs": [],
   "source": [
    "content_filed = []\n",
    "for url in df['href']:\n",
    "    res_post = requests.get(url)\n",
    "    soup_post = BeautifulSoup(res_post.content, 'lxml')\n",
    "\n",
    "    paragraphs = soup_post.find_all(attrs={'class': 'entry-content'})\n",
    "\n",
    "    text = ' '.join([paragraph.text.replace('\\n', '') for paragraph in paragraphs])\n",
    "    content_filed.append(text)\n",
    "    \n",
    "    time.sleep(1)\n",
    "df['text'] = content_filed"
   ]
  },
  {
   "cell_type": "code",
   "execution_count": 7,
   "metadata": {},
   "outputs": [
    {
     "data": {
      "text/html": [
       "<div>\n",
       "<style scoped>\n",
       "    .dataframe tbody tr th:only-of-type {\n",
       "        vertical-align: middle;\n",
       "    }\n",
       "\n",
       "    .dataframe tbody tr th {\n",
       "        vertical-align: top;\n",
       "    }\n",
       "\n",
       "    .dataframe thead th {\n",
       "        text-align: right;\n",
       "    }\n",
       "</style>\n",
       "<table border=\"1\" class=\"dataframe\">\n",
       "  <thead>\n",
       "    <tr style=\"text-align: right;\">\n",
       "      <th></th>\n",
       "      <th>href</th>\n",
       "      <th>title</th>\n",
       "      <th>country</th>\n",
       "      <th>text</th>\n",
       "    </tr>\n",
       "  </thead>\n",
       "  <tbody>\n",
       "    <tr>\n",
       "      <th>531</th>\n",
       "      <td>https://theblondeabroad.com/what-to-pack-for-a...</td>\n",
       "      <td>What to Pack for an African Safari</td>\n",
       "      <td>Zambia</td>\n",
       "      <td>Updated: October 2019An African safari was one...</td>\n",
       "    </tr>\n",
       "    <tr>\n",
       "      <th>532</th>\n",
       "      <td>https://theblondeabroad.com/microlight-flight-...</td>\n",
       "      <td>Microlight Flight Over Victoria Falls</td>\n",
       "      <td>Zimbabwe</td>\n",
       "      <td>Victoria Falls had been one of my dream destin...</td>\n",
       "    </tr>\n",
       "    <tr>\n",
       "      <th>533</th>\n",
       "      <td>https://theblondeabroad.com/visiting-victoria-...</td>\n",
       "      <td>Guide to Visiting Victoria Falls from Zimbabwe...</td>\n",
       "      <td>Zimbabwe</td>\n",
       "      <td>Victoria Falls was a dream destination of mine...</td>\n",
       "    </tr>\n",
       "    <tr>\n",
       "      <th>534</th>\n",
       "      <td>https://theblondeabroad.com/staying-at-tongabe...</td>\n",
       "      <td>Staying at Tongabezi Lodge near Victoria Falls</td>\n",
       "      <td>Zimbabwe</td>\n",
       "      <td>I’ve stayed at a lot of amazing places around ...</td>\n",
       "    </tr>\n",
       "    <tr>\n",
       "      <th>535</th>\n",
       "      <td>https://theblondeabroad.com/what-to-pack-for-a...</td>\n",
       "      <td>What to Pack for an African Safari</td>\n",
       "      <td>Zimbabwe</td>\n",
       "      <td>Updated: October 2019An African safari was one...</td>\n",
       "    </tr>\n",
       "  </tbody>\n",
       "</table>\n",
       "</div>"
      ],
      "text/plain": [
       "                                                  href  \\\n",
       "531  https://theblondeabroad.com/what-to-pack-for-a...   \n",
       "532  https://theblondeabroad.com/microlight-flight-...   \n",
       "533  https://theblondeabroad.com/visiting-victoria-...   \n",
       "534  https://theblondeabroad.com/staying-at-tongabe...   \n",
       "535  https://theblondeabroad.com/what-to-pack-for-a...   \n",
       "\n",
       "                                                 title   country  \\\n",
       "531                 What to Pack for an African Safari    Zambia   \n",
       "532              Microlight Flight Over Victoria Falls  Zimbabwe   \n",
       "533  Guide to Visiting Victoria Falls from Zimbabwe...  Zimbabwe   \n",
       "534     Staying at Tongabezi Lodge near Victoria Falls  Zimbabwe   \n",
       "535                 What to Pack for an African Safari  Zimbabwe   \n",
       "\n",
       "                                                  text  \n",
       "531  Updated: October 2019An African safari was one...  \n",
       "532  Victoria Falls had been one of my dream destin...  \n",
       "533  Victoria Falls was a dream destination of mine...  \n",
       "534  I’ve stayed at a lot of amazing places around ...  \n",
       "535  Updated: October 2019An African safari was one...  "
      ]
     },
     "execution_count": 7,
     "metadata": {},
     "output_type": "execute_result"
    }
   ],
   "source": [
    "df.tail()"
   ]
  },
  {
   "cell_type": "code",
   "execution_count": 8,
   "metadata": {},
   "outputs": [],
   "source": [
    "df.to_csv('./data/articles_theblondeabroad.csv', index=False)"
   ]
  }
 ],
 "metadata": {
  "kernelspec": {
   "display_name": "Python 3",
   "language": "python",
   "name": "python3"
  },
  "language_info": {
   "codemirror_mode": {
    "name": "ipython",
    "version": 3
   },
   "file_extension": ".py",
   "mimetype": "text/x-python",
   "name": "python",
   "nbconvert_exporter": "python",
   "pygments_lexer": "ipython3",
   "version": "3.8.2"
  }
 },
 "nbformat": 4,
 "nbformat_minor": 4
}
