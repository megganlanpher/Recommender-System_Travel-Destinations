{
 "cells": [
  {
   "cell_type": "code",
   "execution_count": 1,
   "metadata": {},
   "outputs": [],
   "source": [
    "import pandas as pd\n",
    "import requests\n",
    "import json\n",
    "import logging\n",
    "from bs4 import BeautifulSoup\n",
    "import time"
   ]
  },
  {
   "cell_type": "code",
   "execution_count": 2,
   "metadata": {},
   "outputs": [
    {
     "name": "stdout",
     "output_type": "stream",
     "text": [
      "['France', 'United States', 'Spain', 'China', 'Italy', 'United Kingdom', 'Germany', 'Mexico', 'Thailand', 'Turkey', 'Austria', 'Malaysia', 'Hong Kong', 'Greece', 'Russia', 'Japan', 'Canada', 'Portugal', 'Saudi Arabia', 'Poland']\n"
     ]
    }
   ],
   "source": [
    "# GET TOP TOURISM COUNTRIES\n",
    "df_tourism = pd.read_csv('./data/most_traveled_countries.csv')\n",
    "# SOURCE: http://worldpopulationreview.com/countries/most-visited-countries/\n",
    "# df_tourism.head()\n",
    "\n",
    "top20 = list(df_tourism.sort_values(by='touristArrivals', ascending=False)['name'][:20])\n",
    "print(top20)"
   ]
  },
  {
   "cell_type": "code",
   "execution_count": 3,
   "metadata": {},
   "outputs": [],
   "source": [
    "# GET COUNTRIES\n",
    "country_names = [c_name for c_name in pd.read_csv('./data/country_names.csv')['name']]\n",
    "# SOURCES: http://worldpopulationreview.com/countries/most-visited-countries/\n",
    "    # & https://www.travel-advisory.info/api\n"
   ]
  },
  {
   "cell_type": "code",
   "execution_count": 4,
   "metadata": {},
   "outputs": [
    {
     "data": {
      "text/plain": [
       "178"
      ]
     },
     "execution_count": 4,
     "metadata": {},
     "output_type": "execute_result"
    }
   ],
   "source": [
    "len(country_names)"
   ]
  },
  {
   "cell_type": "code",
   "execution_count": 5,
   "metadata": {},
   "outputs": [
    {
     "name": "stdout",
     "output_type": "stream",
     "text": [
      "Shape of dataframe: (316, 3)\n"
     ]
    },
    {
     "data": {
      "text/html": [
       "<div>\n",
       "<style scoped>\n",
       "    .dataframe tbody tr th:only-of-type {\n",
       "        vertical-align: middle;\n",
       "    }\n",
       "\n",
       "    .dataframe tbody tr th {\n",
       "        vertical-align: top;\n",
       "    }\n",
       "\n",
       "    .dataframe thead th {\n",
       "        text-align: right;\n",
       "    }\n",
       "</style>\n",
       "<table border=\"1\" class=\"dataframe\">\n",
       "  <thead>\n",
       "    <tr style=\"text-align: right;\">\n",
       "      <th></th>\n",
       "      <th>href</th>\n",
       "      <th>title</th>\n",
       "      <th>country</th>\n",
       "    </tr>\n",
       "  </thead>\n",
       "  <tbody>\n",
       "    <tr>\n",
       "      <th>0</th>\n",
       "      <td>https://amateurtraveler.com/food-of-armenia/</td>\n",
       "      <td>Food of Armenia: The Tasty Side of Armenia</td>\n",
       "      <td>Armenia</td>\n",
       "    </tr>\n",
       "    <tr>\n",
       "      <th>1</th>\n",
       "      <td>https://amateurtraveler.com/visiting-history-f...</td>\n",
       "      <td>Visiting Historic Armenia</td>\n",
       "      <td>Armenia</td>\n",
       "    </tr>\n",
       "    <tr>\n",
       "      <th>2</th>\n",
       "      <td>https://amateurtraveler.com/graffiti-tour-of-b...</td>\n",
       "      <td>Graffiti Tour of Buenos Aires, Argentina</td>\n",
       "      <td>Argentina</td>\n",
       "    </tr>\n",
       "    <tr>\n",
       "      <th>3</th>\n",
       "      <td>https://amateurtraveler.com/review-hotel-vitru...</td>\n",
       "      <td>Review – Hotel Vitrum – Buenos Aires, Argentina</td>\n",
       "      <td>Argentina</td>\n",
       "    </tr>\n",
       "    <tr>\n",
       "      <th>4</th>\n",
       "      <td>https://amateurtraveler.com/iguazu-falls-argen...</td>\n",
       "      <td>Iguazu Falls, Argentina – What You Need To Kno...</td>\n",
       "      <td>Argentina</td>\n",
       "    </tr>\n",
       "  </tbody>\n",
       "</table>\n",
       "</div>"
      ],
      "text/plain": [
       "                                                href  \\\n",
       "0       https://amateurtraveler.com/food-of-armenia/   \n",
       "1  https://amateurtraveler.com/visiting-history-f...   \n",
       "2  https://amateurtraveler.com/graffiti-tour-of-b...   \n",
       "3  https://amateurtraveler.com/review-hotel-vitru...   \n",
       "4  https://amateurtraveler.com/iguazu-falls-argen...   \n",
       "\n",
       "                                               title    country  \n",
       "0         Food of Armenia: The Tasty Side of Armenia    Armenia  \n",
       "1                          Visiting Historic Armenia    Armenia  \n",
       "2           Graffiti Tour of Buenos Aires, Argentina  Argentina  \n",
       "3    Review – Hotel Vitrum – Buenos Aires, Argentina  Argentina  \n",
       "4  Iguazu Falls, Argentina – What You Need To Kno...  Argentina  "
      ]
     },
     "execution_count": 5,
     "metadata": {},
     "output_type": "execute_result"
    }
   ],
   "source": [
    "# GET ALL URLS FOR EACH COUNTRY\n",
    "articles = []\n",
    "for country in country_names:\n",
    "#     print(f'Searching {country}...')\n",
    "    for n in range(1, 4):\n",
    "        try:\n",
    "            url_base = f'https://amateurtraveler.com/tag/{country}+article/page/{n}/'\n",
    "            res_ = requests.get(url_base)\n",
    "            soup_ = BeautifulSoup(res_.content, 'lxml')\n",
    "            time.sleep(1)\n",
    "\n",
    "            for link in soup_.find_all(attrs={'class': 'category-post-desc'}):\n",
    "                article = {}\n",
    "                article['href'] = link.find('a').attrs['href']\n",
    "                article['title'] = link.text.strip()\n",
    "                article['country'] = country\n",
    "                articles.append(article)\n",
    "        except:\n",
    "            print(f'Error with {country} at page {n}.')\n",
    "\n",
    "df = pd.DataFrame(articles)\n",
    "print('Shape of dataframe:', df.shape)\n",
    "df.head()"
   ]
  },
  {
   "cell_type": "code",
   "execution_count": 7,
   "metadata": {},
   "outputs": [],
   "source": [
    "# GET TEXT CONTENT FROM EACH POST\n",
    "content_filed = []\n",
    "for url in df['href']:\n",
    "    try:\n",
    "        res_post = requests.get(url)\n",
    "        soup_post = BeautifulSoup(res_post.content, 'lxml')\n",
    "\n",
    "        paragraphs = soup_post.find_all(attrs={'class': 'entry'})\n",
    "\n",
    "        text = ' '.join([paragraph.text.replace('\\n', '') for paragraph in paragraphs])\n",
    "        content_filed.append(text)\n",
    "    except:\n",
    "        res_post = requests.get(f'https://amateurtraveler.com/{url}')\n",
    "        soup_post = BeautifulSoup(res_post.content, 'lxml')\n",
    "\n",
    "        paragraphs = soup_post.find_all(attrs={'class': 'entry'})\n",
    "\n",
    "        text = ' '.join([paragraph.text.replace('\\n', '') for paragraph in paragraphs])\n",
    "        content_filed.append(text)\n",
    "        \n",
    "    time.sleep(1)\n",
    "df['text'] = content_filed"
   ]
  },
  {
   "cell_type": "code",
   "execution_count": 8,
   "metadata": {},
   "outputs": [
    {
     "data": {
      "text/html": [
       "<div>\n",
       "<style scoped>\n",
       "    .dataframe tbody tr th:only-of-type {\n",
       "        vertical-align: middle;\n",
       "    }\n",
       "\n",
       "    .dataframe tbody tr th {\n",
       "        vertical-align: top;\n",
       "    }\n",
       "\n",
       "    .dataframe thead th {\n",
       "        text-align: right;\n",
       "    }\n",
       "</style>\n",
       "<table border=\"1\" class=\"dataframe\">\n",
       "  <thead>\n",
       "    <tr style=\"text-align: right;\">\n",
       "      <th></th>\n",
       "      <th>href</th>\n",
       "      <th>title</th>\n",
       "      <th>country</th>\n",
       "      <th>text</th>\n",
       "    </tr>\n",
       "  </thead>\n",
       "  <tbody>\n",
       "    <tr>\n",
       "      <th>311</th>\n",
       "      <td>https://amateurtraveler.com/vietnam-visions/</td>\n",
       "      <td>Vietnam Visions</td>\n",
       "      <td>Vietnam</td>\n",
       "      <td>I’ve spent more time in Vietnam than any other...</td>\n",
       "    </tr>\n",
       "    <tr>\n",
       "      <th>312</th>\n",
       "      <td>https://amateurtraveler.com/africa-overland/</td>\n",
       "      <td>Africa Overland – Tour from Johannesburg, Sout...</td>\n",
       "      <td>Zambia</td>\n",
       "      <td>Once a year I try and take a trip with a group...</td>\n",
       "    </tr>\n",
       "    <tr>\n",
       "      <th>313</th>\n",
       "      <td>https://amateurtraveler.com/zambia-road-trip/</td>\n",
       "      <td>Zambia Road Trip from Bottom to Top</td>\n",
       "      <td>Zambia</td>\n",
       "      <td>Self-driving through Zambia is an experience u...</td>\n",
       "    </tr>\n",
       "    <tr>\n",
       "      <th>314</th>\n",
       "      <td>https://amateurtraveler.com/africa-overland/</td>\n",
       "      <td>Africa Overland – Tour from Johannesburg, Sout...</td>\n",
       "      <td>Zimbabwe</td>\n",
       "      <td>Once a year I try and take a trip with a group...</td>\n",
       "    </tr>\n",
       "    <tr>\n",
       "      <th>315</th>\n",
       "      <td>https://amateurtraveler.com/zimbabwe-safari-lo...</td>\n",
       "      <td>Zimbabwe Safari Lodge – The Old Drift Lodge, L...</td>\n",
       "      <td>Zimbabwe</td>\n",
       "      <td>We sat in the lobby of the Old Drift Lodge whe...</td>\n",
       "    </tr>\n",
       "  </tbody>\n",
       "</table>\n",
       "</div>"
      ],
      "text/plain": [
       "                                                  href  \\\n",
       "311       https://amateurtraveler.com/vietnam-visions/   \n",
       "312       https://amateurtraveler.com/africa-overland/   \n",
       "313      https://amateurtraveler.com/zambia-road-trip/   \n",
       "314       https://amateurtraveler.com/africa-overland/   \n",
       "315  https://amateurtraveler.com/zimbabwe-safari-lo...   \n",
       "\n",
       "                                                 title   country  \\\n",
       "311                                    Vietnam Visions   Vietnam   \n",
       "312  Africa Overland – Tour from Johannesburg, Sout...    Zambia   \n",
       "313                Zambia Road Trip from Bottom to Top    Zambia   \n",
       "314  Africa Overland – Tour from Johannesburg, Sout...  Zimbabwe   \n",
       "315  Zimbabwe Safari Lodge – The Old Drift Lodge, L...  Zimbabwe   \n",
       "\n",
       "                                                  text  \n",
       "311  I’ve spent more time in Vietnam than any other...  \n",
       "312  Once a year I try and take a trip with a group...  \n",
       "313  Self-driving through Zambia is an experience u...  \n",
       "314  Once a year I try and take a trip with a group...  \n",
       "315  We sat in the lobby of the Old Drift Lodge whe...  "
      ]
     },
     "execution_count": 8,
     "metadata": {},
     "output_type": "execute_result"
    }
   ],
   "source": [
    "df.tail()"
   ]
  },
  {
   "cell_type": "code",
   "execution_count": 9,
   "metadata": {},
   "outputs": [],
   "source": [
    "df.to_csv('./data/articles_amateurtraveler.csv', index=False)"
   ]
  }
 ],
 "metadata": {
  "kernelspec": {
   "display_name": "Python 3",
   "language": "python",
   "name": "python3"
  },
  "language_info": {
   "codemirror_mode": {
    "name": "ipython",
    "version": 3
   },
   "file_extension": ".py",
   "mimetype": "text/x-python",
   "name": "python",
   "nbconvert_exporter": "python",
   "pygments_lexer": "ipython3",
   "version": "3.8.2"
  }
 },
 "nbformat": 4,
 "nbformat_minor": 4
}
